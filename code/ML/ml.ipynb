{
 "cells": [
  {
   "cell_type": "markdown",
   "id": "372e5d2b-87f2-4a6a-babc-56a543af2314",
   "metadata": {},
   "source": [
    "# Milestone 3: Machine Learning"
   ]
  },
  {
   "cell_type": "code",
   "execution_count": 2,
   "id": "72ae48ce-76a2-4cca-a0b3-524899a0fe6f",
   "metadata": {
    "tags": []
   },
   "outputs": [
    {
     "name": "stdout",
     "output_type": "stream",
     "text": [
      "\n",
      "Downloading and Extracting Packages:\n",
      "\n",
      "Preparing transaction: done\n",
      "Verifying transaction: done\n",
      "Executing transaction: done\n",
      "\n",
      "Note: you may need to restart the kernel to use updated packages.\n",
      "Requirement already satisfied: sagemaker_pyspark in /opt/conda/lib/python3.10/site-packages (1.4.5)\n",
      "Requirement already satisfied: pyspark==3.3.0 in /opt/conda/lib/python3.10/site-packages (from sagemaker_pyspark) (3.3.0)\n",
      "Requirement already satisfied: numpy in /opt/conda/lib/python3.10/site-packages (from sagemaker_pyspark) (1.26.4)\n",
      "Requirement already satisfied: py4j==0.10.9.5 in /opt/conda/lib/python3.10/site-packages (from pyspark==3.3.0->sagemaker_pyspark) (0.10.9.5)\n",
      "\u001b[33mWARNING: Running pip as the 'root' user can result in broken permissions and conflicting behaviour with the system package manager. It is recommended to use a virtual environment instead: https://pip.pypa.io/warnings/venv\u001b[0m\u001b[33m\n",
      "\u001b[0m"
     ]
    },
    {
     "data": {
      "text/html": [
       "<script>Jupyter.notebook.kernel.restart()</script>"
      ],
      "text/plain": [
       "<IPython.core.display.HTML object>"
      ]
     },
     "execution_count": 2,
     "metadata": {},
     "output_type": "execute_result"
    }
   ],
   "source": [
    "# Setup - Run only once per Kernel App\n",
    "%conda install https://anaconda.org/conda-forge/openjdk/11.0.1/download/linux-64/openjdk-11.0.1-hacce0ff_1021.tar.bz2\n",
    "\n",
    "# install PySpark\n",
    "!pip install sagemaker_pyspark\n",
    "\n",
    "# restart kernel\n",
    "from IPython.core.display import HTML\n",
    "HTML(\"<script>Jupyter.notebook.kernel.restart()</script>\")"
   ]
  },
  {
   "cell_type": "code",
   "execution_count": 3,
   "id": "4f01a14f-5fd8-40de-b777-48532cb341f0",
   "metadata": {
    "tags": []
   },
   "outputs": [
    {
     "name": "stdout",
     "output_type": "stream",
     "text": [
      "sagemaker.config INFO - Not applying SDK defaults from location: /etc/xdg/sagemaker/config.yaml\n",
      "sagemaker.config INFO - Not applying SDK defaults from location: /root/.config/sagemaker/config.yaml\n",
      "the default SageMaker region specific bucket for this account is sagemaker-us-east-1-527047370587\n"
     ]
    }
   ],
   "source": [
    "import sagemaker\n",
    "sess = sagemaker.Session()\n",
    "bucket = sess.default_bucket() \n",
    "print(f\"the default SageMaker region specific bucket for this account is {bucket}\")"
   ]
  },
  {
   "cell_type": "code",
   "execution_count": 4,
   "id": "8e5abbd9-12d8-4d2c-a764-4791cee2f96b",
   "metadata": {
    "tags": []
   },
   "outputs": [],
   "source": [
    "import pandas as pd\n",
    "import numpy as np\n",
    "import json\n",
    "from pyspark.ml import Pipeline\n",
    "from pyspark.sql import SparkSession\n",
    "import pyspark.sql.functions as F\n",
    "from pyspark.sql.functions import lit\n",
    "from pyspark.sql import Window\n",
    "from sparknlp.annotator import *\n",
    "from sparknlp.base import *\n",
    "import sparknlp\n",
    "from sparknlp.pretrained import PretrainedPipeline"
   ]
  },
  {
   "cell_type": "code",
   "execution_count": 5,
   "id": "71dcabe0-4643-4dc9-9f9b-4924521ce9d9",
   "metadata": {
    "tags": []
   },
   "outputs": [
    {
     "name": "stdout",
     "output_type": "stream",
     "text": [
      ":: loading settings :: url = jar:file:/opt/conda/lib/python3.10/site-packages/pyspark/jars/ivy-2.5.0.jar!/org/apache/ivy/core/settings/ivysettings.xml\n"
     ]
    },
    {
     "name": "stderr",
     "output_type": "stream",
     "text": [
      "Ivy Default Cache set to: /root/.ivy2/cache\n",
      "The jars for the packages stored in: /root/.ivy2/jars\n",
      "com.johnsnowlabs.nlp#spark-nlp_2.12 added as a dependency\n",
      ":: resolving dependencies :: org.apache.spark#spark-submit-parent-4182547a-a54d-49fe-a829-bb718fe7a92e;1.0\n",
      "\tconfs: [default]\n",
      "\tfound com.johnsnowlabs.nlp#spark-nlp_2.12;5.1.3 in central\n",
      "\tfound com.typesafe#config;1.4.2 in central\n",
      "\tfound org.rocksdb#rocksdbjni;6.29.5 in central\n",
      "\tfound com.amazonaws#aws-java-sdk-bundle;1.11.828 in central\n",
      "\tfound com.github.universal-automata#liblevenshtein;3.0.0 in central\n",
      "\tfound com.google.protobuf#protobuf-java-util;3.0.0-beta-3 in central\n",
      "\tfound com.google.protobuf#protobuf-java;3.0.0-beta-3 in central\n",
      "\tfound com.google.code.gson#gson;2.3 in central\n",
      "\tfound it.unimi.dsi#fastutil;7.0.12 in central\n",
      "\tfound org.projectlombok#lombok;1.16.8 in central\n",
      "\tfound com.google.cloud#google-cloud-storage;2.20.1 in central\n",
      "\tfound com.google.guava#guava;31.1-jre in central\n",
      "\tfound com.google.guava#failureaccess;1.0.1 in central\n",
      "\tfound com.google.guava#listenablefuture;9999.0-empty-to-avoid-conflict-with-guava in central\n",
      "\tfound com.google.errorprone#error_prone_annotations;2.18.0 in central\n",
      "\tfound com.google.j2objc#j2objc-annotations;1.3 in central\n",
      "\tfound com.google.http-client#google-http-client;1.43.0 in central\n",
      "\tfound io.opencensus#opencensus-contrib-http-util;0.31.1 in central\n",
      "\tfound com.google.http-client#google-http-client-jackson2;1.43.0 in central\n",
      "\tfound com.google.http-client#google-http-client-gson;1.43.0 in central\n",
      "\tfound com.google.api-client#google-api-client;2.2.0 in central\n",
      "\tfound commons-codec#commons-codec;1.15 in central\n",
      "\tfound com.google.oauth-client#google-oauth-client;1.34.1 in central\n",
      "\tfound com.google.http-client#google-http-client-apache-v2;1.43.0 in central\n",
      "\tfound com.google.apis#google-api-services-storage;v1-rev20220705-2.0.0 in central\n",
      "\tfound com.google.code.gson#gson;2.10.1 in central\n",
      "\tfound com.google.cloud#google-cloud-core;2.12.0 in central\n",
      "\tfound io.grpc#grpc-context;1.53.0 in central\n",
      "\tfound com.google.auto.value#auto-value-annotations;1.10.1 in central\n",
      "\tfound com.google.auto.value#auto-value;1.10.1 in central\n",
      "\tfound javax.annotation#javax.annotation-api;1.3.2 in central\n",
      "\tfound commons-logging#commons-logging;1.2 in central\n",
      "\tfound com.google.cloud#google-cloud-core-http;2.12.0 in central\n",
      "\tfound com.google.http-client#google-http-client-appengine;1.43.0 in central\n",
      "\tfound com.google.api#gax-httpjson;0.108.2 in central\n",
      "\tfound com.google.cloud#google-cloud-core-grpc;2.12.0 in central\n",
      "\tfound io.grpc#grpc-alts;1.53.0 in central\n",
      "\tfound io.grpc#grpc-grpclb;1.53.0 in central\n",
      "\tfound org.conscrypt#conscrypt-openjdk-uber;2.5.2 in central\n",
      "\tfound io.grpc#grpc-auth;1.53.0 in central\n",
      "\tfound io.grpc#grpc-protobuf;1.53.0 in central\n",
      "\tfound io.grpc#grpc-protobuf-lite;1.53.0 in central\n",
      "\tfound io.grpc#grpc-core;1.53.0 in central\n",
      "\tfound com.google.api#gax;2.23.2 in central\n",
      "\tfound com.google.api#gax-grpc;2.23.2 in central\n",
      "\tfound com.google.auth#google-auth-library-credentials;1.16.0 in central\n",
      "\tfound com.google.auth#google-auth-library-oauth2-http;1.16.0 in central\n",
      "\tfound com.google.api#api-common;2.6.2 in central\n",
      "\tfound io.opencensus#opencensus-api;0.31.1 in central\n",
      "\tfound com.google.api.grpc#proto-google-iam-v1;1.9.2 in central\n",
      "\tfound com.google.protobuf#protobuf-java;3.21.12 in central\n",
      "\tfound com.google.protobuf#protobuf-java-util;3.21.12 in central\n",
      "\tfound com.google.api.grpc#proto-google-common-protos;2.14.2 in central\n",
      "\tfound org.threeten#threetenbp;1.6.5 in central\n",
      "\tfound com.google.api.grpc#proto-google-cloud-storage-v2;2.20.1-alpha in central\n",
      "\tfound com.google.api.grpc#grpc-google-cloud-storage-v2;2.20.1-alpha in central\n",
      "\tfound com.google.api.grpc#gapic-google-cloud-storage-v2;2.20.1-alpha in central\n",
      "\tfound com.fasterxml.jackson.core#jackson-core;2.14.2 in central\n",
      "\tfound com.google.code.findbugs#jsr305;3.0.2 in central\n",
      "\tfound io.grpc#grpc-api;1.53.0 in central\n",
      "\tfound io.grpc#grpc-stub;1.53.0 in central\n",
      "\tfound org.checkerframework#checker-qual;3.31.0 in central\n",
      "\tfound io.perfmark#perfmark-api;0.26.0 in central\n",
      "\tfound com.google.android#annotations;4.1.1.4 in central\n",
      "\tfound org.codehaus.mojo#animal-sniffer-annotations;1.22 in central\n",
      "\tfound io.opencensus#opencensus-proto;0.2.0 in central\n",
      "\tfound io.grpc#grpc-services;1.53.0 in central\n",
      "\tfound com.google.re2j#re2j;1.6 in central\n",
      "\tfound io.grpc#grpc-netty-shaded;1.53.0 in central\n",
      "\tfound io.grpc#grpc-googleapis;1.53.0 in central\n",
      "\tfound io.grpc#grpc-xds;1.53.0 in central\n",
      "\tfound com.navigamez#greex;1.0 in central\n",
      "\tfound dk.brics.automaton#automaton;1.11-8 in central\n",
      "\tfound com.johnsnowlabs.nlp#tensorflow-cpu_2.12;0.4.4 in central\n",
      "\tfound com.microsoft.onnxruntime#onnxruntime;1.15.0 in central\n",
      ":: resolution report :: resolve 5120ms :: artifacts dl 485ms\n",
      "\t:: modules in use:\n",
      "\tcom.amazonaws#aws-java-sdk-bundle;1.11.828 from central in [default]\n",
      "\tcom.fasterxml.jackson.core#jackson-core;2.14.2 from central in [default]\n",
      "\tcom.github.universal-automata#liblevenshtein;3.0.0 from central in [default]\n",
      "\tcom.google.android#annotations;4.1.1.4 from central in [default]\n",
      "\tcom.google.api#api-common;2.6.2 from central in [default]\n",
      "\tcom.google.api#gax;2.23.2 from central in [default]\n",
      "\tcom.google.api#gax-grpc;2.23.2 from central in [default]\n",
      "\tcom.google.api#gax-httpjson;0.108.2 from central in [default]\n",
      "\tcom.google.api-client#google-api-client;2.2.0 from central in [default]\n",
      "\tcom.google.api.grpc#gapic-google-cloud-storage-v2;2.20.1-alpha from central in [default]\n",
      "\tcom.google.api.grpc#grpc-google-cloud-storage-v2;2.20.1-alpha from central in [default]\n",
      "\tcom.google.api.grpc#proto-google-cloud-storage-v2;2.20.1-alpha from central in [default]\n",
      "\tcom.google.api.grpc#proto-google-common-protos;2.14.2 from central in [default]\n",
      "\tcom.google.api.grpc#proto-google-iam-v1;1.9.2 from central in [default]\n",
      "\tcom.google.apis#google-api-services-storage;v1-rev20220705-2.0.0 from central in [default]\n",
      "\tcom.google.auth#google-auth-library-credentials;1.16.0 from central in [default]\n",
      "\tcom.google.auth#google-auth-library-oauth2-http;1.16.0 from central in [default]\n",
      "\tcom.google.auto.value#auto-value;1.10.1 from central in [default]\n",
      "\tcom.google.auto.value#auto-value-annotations;1.10.1 from central in [default]\n",
      "\tcom.google.cloud#google-cloud-core;2.12.0 from central in [default]\n",
      "\tcom.google.cloud#google-cloud-core-grpc;2.12.0 from central in [default]\n",
      "\tcom.google.cloud#google-cloud-core-http;2.12.0 from central in [default]\n",
      "\tcom.google.cloud#google-cloud-storage;2.20.1 from central in [default]\n",
      "\tcom.google.code.findbugs#jsr305;3.0.2 from central in [default]\n",
      "\tcom.google.code.gson#gson;2.10.1 from central in [default]\n",
      "\tcom.google.errorprone#error_prone_annotations;2.18.0 from central in [default]\n",
      "\tcom.google.guava#failureaccess;1.0.1 from central in [default]\n",
      "\tcom.google.guava#guava;31.1-jre from central in [default]\n",
      "\tcom.google.guava#listenablefuture;9999.0-empty-to-avoid-conflict-with-guava from central in [default]\n",
      "\tcom.google.http-client#google-http-client;1.43.0 from central in [default]\n",
      "\tcom.google.http-client#google-http-client-apache-v2;1.43.0 from central in [default]\n",
      "\tcom.google.http-client#google-http-client-appengine;1.43.0 from central in [default]\n",
      "\tcom.google.http-client#google-http-client-gson;1.43.0 from central in [default]\n",
      "\tcom.google.http-client#google-http-client-jackson2;1.43.0 from central in [default]\n",
      "\tcom.google.j2objc#j2objc-annotations;1.3 from central in [default]\n",
      "\tcom.google.oauth-client#google-oauth-client;1.34.1 from central in [default]\n",
      "\tcom.google.protobuf#protobuf-java;3.21.12 from central in [default]\n",
      "\tcom.google.protobuf#protobuf-java-util;3.21.12 from central in [default]\n",
      "\tcom.google.re2j#re2j;1.6 from central in [default]\n",
      "\tcom.johnsnowlabs.nlp#spark-nlp_2.12;5.1.3 from central in [default]\n",
      "\tcom.johnsnowlabs.nlp#tensorflow-cpu_2.12;0.4.4 from central in [default]\n",
      "\tcom.microsoft.onnxruntime#onnxruntime;1.15.0 from central in [default]\n",
      "\tcom.navigamez#greex;1.0 from central in [default]\n",
      "\tcom.typesafe#config;1.4.2 from central in [default]\n",
      "\tcommons-codec#commons-codec;1.15 from central in [default]\n",
      "\tcommons-logging#commons-logging;1.2 from central in [default]\n",
      "\tdk.brics.automaton#automaton;1.11-8 from central in [default]\n",
      "\tio.grpc#grpc-alts;1.53.0 from central in [default]\n",
      "\tio.grpc#grpc-api;1.53.0 from central in [default]\n",
      "\tio.grpc#grpc-auth;1.53.0 from central in [default]\n",
      "\tio.grpc#grpc-context;1.53.0 from central in [default]\n",
      "\tio.grpc#grpc-core;1.53.0 from central in [default]\n",
      "\tio.grpc#grpc-googleapis;1.53.0 from central in [default]\n",
      "\tio.grpc#grpc-grpclb;1.53.0 from central in [default]\n",
      "\tio.grpc#grpc-netty-shaded;1.53.0 from central in [default]\n",
      "\tio.grpc#grpc-protobuf;1.53.0 from central in [default]\n",
      "\tio.grpc#grpc-protobuf-lite;1.53.0 from central in [default]\n",
      "\tio.grpc#grpc-services;1.53.0 from central in [default]\n",
      "\tio.grpc#grpc-stub;1.53.0 from central in [default]\n",
      "\tio.grpc#grpc-xds;1.53.0 from central in [default]\n",
      "\tio.opencensus#opencensus-api;0.31.1 from central in [default]\n",
      "\tio.opencensus#opencensus-contrib-http-util;0.31.1 from central in [default]\n",
      "\tio.opencensus#opencensus-proto;0.2.0 from central in [default]\n",
      "\tio.perfmark#perfmark-api;0.26.0 from central in [default]\n",
      "\tit.unimi.dsi#fastutil;7.0.12 from central in [default]\n",
      "\tjavax.annotation#javax.annotation-api;1.3.2 from central in [default]\n",
      "\torg.checkerframework#checker-qual;3.31.0 from central in [default]\n",
      "\torg.codehaus.mojo#animal-sniffer-annotations;1.22 from central in [default]\n",
      "\torg.conscrypt#conscrypt-openjdk-uber;2.5.2 from central in [default]\n",
      "\torg.projectlombok#lombok;1.16.8 from central in [default]\n",
      "\torg.rocksdb#rocksdbjni;6.29.5 from central in [default]\n",
      "\torg.threeten#threetenbp;1.6.5 from central in [default]\n",
      "\t:: evicted modules:\n",
      "\tcom.google.protobuf#protobuf-java-util;3.0.0-beta-3 by [com.google.protobuf#protobuf-java-util;3.21.12] in [default]\n",
      "\tcom.google.protobuf#protobuf-java;3.0.0-beta-3 by [com.google.protobuf#protobuf-java;3.21.12] in [default]\n",
      "\tcom.google.code.gson#gson;2.3 by [com.google.code.gson#gson;2.10.1] in [default]\n",
      "\t---------------------------------------------------------------------\n",
      "\t|                  |            modules            ||   artifacts   |\n",
      "\t|       conf       | number| search|dwnlded|evicted|| number|dwnlded|\n",
      "\t---------------------------------------------------------------------\n",
      "\t|      default     |   75  |   0   |   0   |   3   ||   72  |   0   |\n",
      "\t---------------------------------------------------------------------\n",
      ":: retrieving :: org.apache.spark#spark-submit-parent-4182547a-a54d-49fe-a829-bb718fe7a92e\n",
      "\tconfs: [default]\n",
      "\t0 artifacts copied, 72 already retrieved (0kB/172ms)\n"
     ]
    },
    {
     "name": "stdout",
     "output_type": "stream",
     "text": [
      "24/04/23 17:17:37 WARN NativeCodeLoader: Unable to load native-hadoop library for your platform... using builtin-java classes where applicable\n"
     ]
    },
    {
     "name": "stderr",
     "output_type": "stream",
     "text": [
      "Setting default log level to \"WARN\".\n",
      "To adjust logging level use sc.setLogLevel(newLevel). For SparkR, use setLogLevel(newLevel).\n"
     ]
    },
    {
     "name": "stdout",
     "output_type": "stream",
     "text": [
      "24/04/23 17:17:41 WARN Utils: Service 'SparkUI' could not bind on port 4040. Attempting port 4041.\n"
     ]
    }
   ],
   "source": [
    "# Import pyspark and build Spark session\n",
    "spark = SparkSession.builder \\\n",
    "    .appName(\"Spark NLP\")\\\n",
    "    .config(\"spark.driver.memory\",\"16G\")\\\n",
    "    .config(\"spark.driver.maxResultSize\", \"0\") \\\n",
    "    .config(\"spark.kryoserializer.buffer.max\", \"2000M\")\\\n",
    "    .config(\"spark.jars.packages\", \"com.johnsnowlabs.nlp:spark-nlp_2.12:5.1.3\")\\\n",
    "    .getOrCreate()"
   ]
  },
  {
   "cell_type": "code",
   "execution_count": 6,
   "id": "b7746be2-1265-4320-bdec-654ae5638954",
   "metadata": {
    "tags": []
   },
   "outputs": [
    {
     "name": "stderr",
     "output_type": "stream",
     "text": [
      "[nltk_data] Downloading package stopwords to /root/nltk_data...\n",
      "[nltk_data]   Package stopwords is already up-to-date!\n"
     ]
    }
   ],
   "source": [
    "from pyspark.ml.feature import Tokenizer, CountVectorizer, IDF, HashingTF, StopWordsRemover\n",
    "import pyspark.sql.functions as F\n",
    "from pyspark.sql.types import ArrayType, MapType, StringType\n",
    "import string\n",
    "from sparknlp.pretrained import PretrainedPipeline\n",
    "import matplotlib.pyplot as plt\n",
    "\n",
    "import nltk\n",
    "nltk.download('stopwords')\n",
    "\n",
    "from pyspark.sql import SparkSession\n",
    "from pyspark.ml import Pipeline\n",
    "from pyspark.ml.feature import SQLTransformer\n",
    "from sparknlp.base import DocumentAssembler\n",
    "from sparknlp.annotator import Tokenizer, Normalizer, StopWordsCleaner, LemmatizerModel\n",
    "\n",
    "from pyspark.ml.feature import VectorAssembler\n",
    "from pyspark.ml.classification import LogisticRegression\n",
    "from pyspark.ml.evaluation import MulticlassClassificationEvaluator\n",
    "from pyspark.ml.evaluation import RegressionEvaluator\n",
    "\n",
    "from pyspark.ml.evaluation import BinaryClassificationEvaluator\n",
    "from pyspark.ml.tuning import CrossValidator, ParamGridBuilder\n",
    "from pyspark.ml.classification import LogisticRegression\n",
    "from pyspark.ml.classification import RandomForestClassifier\n",
    "from pyspark.ml.classification import NaiveBayes\n",
    "from pyspark.ml.regression import RandomForestRegressor\n",
    "from pyspark.ml.regression import LinearRegression\n",
    "from pyspark.ml.evaluation import MulticlassClassificationEvaluator\n",
    "from pyspark.ml.feature import VectorAssembler\n",
    "from sklearn.metrics import roc_curve, auc\n",
    "import matplotlib.pyplot as plt\n",
    "from pyspark.ml.feature import OneHotEncoder, StringIndexer"
   ]
  },
  {
   "cell_type": "markdown",
   "id": "8f0f67f6-ef59-446f-87f9-60a9ccea85d4",
   "metadata": {},
   "source": [
    "## ML\n",
    "### 9. Correlating Public and Media Sentiment Scores on Reddit with Stock Price Movements of Top Tech Companies \n",
    "In this segment of our analysis, we aim to understand the relationship between Reddit-derived sentiment scores and the stock price movements of the top five technology companies. We've identified the following variables: the daily average public sentiment from `r/Technology` and the average media sentiment from `r/News`. These metrics provide a nuanced view of the prevailing sentiments in technology discussions.\n",
    "By leveraging these sentiment indicators, we would employ machine learning models to predict the stock price changes for the top 5 tech companies: Microsoft, Nvidia, Adobe, Alphabet, and Amazon. Our objective is to determine the degree to which shifts in public opinion and media coverage on Reddit correlate with and potentially influence the stock market performance of these tech giants. We would use Root Mean Square Error (RMSE) as a metric to assess our models' accuracy and predictive power. This analysis is designed to pinpoint which technology company's stock is most affected by the sentiment dynamics on Reddit, offering valuable insights into the interplay between online discourse and financial markets."
   ]
  },
  {
   "cell_type": "code",
   "execution_count": 8,
   "id": "6990f44a-f13e-496a-83bf-0bf792626a2a",
   "metadata": {
    "tags": []
   },
   "outputs": [
    {
     "name": "stdout",
     "output_type": "stream",
     "text": [
      "Collecting yfinance\n",
      "  Using cached yfinance-0.2.38-py2.py3-none-any.whl.metadata (11 kB)\n",
      "Requirement already satisfied: pandas>=1.3.0 in /opt/conda/lib/python3.10/site-packages (from yfinance) (2.2.2)\n",
      "Requirement already satisfied: numpy>=1.16.5 in /opt/conda/lib/python3.10/site-packages (from yfinance) (1.26.4)\n",
      "Requirement already satisfied: requests>=2.31 in /opt/conda/lib/python3.10/site-packages (from yfinance) (2.31.0)\n",
      "Collecting multitasking>=0.0.7 (from yfinance)\n",
      "  Using cached multitasking-0.0.11-py3-none-any.whl.metadata (5.5 kB)\n",
      "Requirement already satisfied: lxml>=4.9.1 in /opt/conda/lib/python3.10/site-packages (from yfinance) (5.1.0)\n",
      "Requirement already satisfied: appdirs>=1.4.4 in /opt/conda/lib/python3.10/site-packages (from yfinance) (1.4.4)\n",
      "Requirement already satisfied: pytz>=2022.5 in /opt/conda/lib/python3.10/site-packages (from yfinance) (2024.1)\n",
      "Collecting frozendict>=2.3.4 (from yfinance)\n",
      "  Using cached frozendict-2.4.2-cp310-cp310-manylinux_2_17_x86_64.manylinux2014_x86_64.whl.metadata (23 kB)\n",
      "Collecting peewee>=3.16.2 (from yfinance)\n",
      "  Using cached peewee-3.17.3-cp310-cp310-linux_x86_64.whl\n",
      "Requirement already satisfied: beautifulsoup4>=4.11.1 in /opt/conda/lib/python3.10/site-packages (from yfinance) (4.12.3)\n",
      "Collecting html5lib>=1.1 (from yfinance)\n",
      "  Using cached html5lib-1.1-py2.py3-none-any.whl.metadata (16 kB)\n",
      "Requirement already satisfied: soupsieve>1.2 in /opt/conda/lib/python3.10/site-packages (from beautifulsoup4>=4.11.1->yfinance) (2.5)\n",
      "Requirement already satisfied: six>=1.9 in /opt/conda/lib/python3.10/site-packages (from html5lib>=1.1->yfinance) (1.16.0)\n",
      "Requirement already satisfied: webencodings in /opt/conda/lib/python3.10/site-packages (from html5lib>=1.1->yfinance) (0.5.1)\n",
      "Requirement already satisfied: python-dateutil>=2.8.2 in /opt/conda/lib/python3.10/site-packages (from pandas>=1.3.0->yfinance) (2.9.0)\n",
      "Requirement already satisfied: tzdata>=2022.7 in /opt/conda/lib/python3.10/site-packages (from pandas>=1.3.0->yfinance) (2024.1)\n",
      "Requirement already satisfied: charset-normalizer<4,>=2 in /opt/conda/lib/python3.10/site-packages (from requests>=2.31->yfinance) (3.3.2)\n",
      "Requirement already satisfied: idna<4,>=2.5 in /opt/conda/lib/python3.10/site-packages (from requests>=2.31->yfinance) (3.6)\n",
      "Requirement already satisfied: urllib3<3,>=1.21.1 in /opt/conda/lib/python3.10/site-packages (from requests>=2.31->yfinance) (2.2.1)\n",
      "Requirement already satisfied: certifi>=2017.4.17 in /opt/conda/lib/python3.10/site-packages (from requests>=2.31->yfinance) (2024.2.2)\n",
      "Using cached yfinance-0.2.38-py2.py3-none-any.whl (72 kB)\n",
      "Using cached frozendict-2.4.2-cp310-cp310-manylinux_2_17_x86_64.manylinux2014_x86_64.whl (116 kB)\n",
      "Using cached html5lib-1.1-py2.py3-none-any.whl (112 kB)\n",
      "Using cached multitasking-0.0.11-py3-none-any.whl (8.5 kB)\n",
      "Installing collected packages: peewee, multitasking, html5lib, frozendict, yfinance\n",
      "Successfully installed frozendict-2.4.2 html5lib-1.1 multitasking-0.0.11 peewee-3.17.3 yfinance-0.2.38\n",
      "\u001b[33mWARNING: Running pip as the 'root' user can result in broken permissions and conflicting behaviour with the system package manager. It is recommended to use a virtual environment instead: https://pip.pypa.io/warnings/venv\u001b[0m\u001b[33m\n",
      "\u001b[0m"
     ]
    }
   ],
   "source": [
    "!pip install yfinance"
   ]
  },
  {
   "cell_type": "code",
   "execution_count": 12,
   "id": "e8cc1686-7f6b-4ba1-ba64-0bd99d5c980f",
   "metadata": {
    "tags": []
   },
   "outputs": [
    {
     "name": "stderr",
     "output_type": "stream",
     "text": [
      "[*********************100%%**********************]  1 of 1 completed\n",
      "[*********************100%%**********************]  1 of 1 completed\n",
      "[*********************100%%**********************]  1 of 1 completed\n",
      "[*********************100%%**********************]  1 of 1 completed\n",
      "[*********************100%%**********************]  1 of 1 completed\n"
     ]
    }
   ],
   "source": [
    "import yfinance as yf\n",
    "\n",
    "# Define the list of companies\n",
    "companies = ['MSFT', 'NVDA', 'ADBE', 'GOOGL', 'AMZN']\n",
    "\n",
    "# Fetch historical stock data for each company\n",
    "start_date = '2021-01-01'\n",
    "end_date = '2023-02-28'\n",
    "\n",
    "stock_data = {}\n",
    "for company in companies:\n",
    "    stock_data[company] = yf.download(company, start=start_date, end=end_date)['Adj Close']\n",
    "\n",
    "# Create a DataFrame to store the adjusted closing prices\n",
    "df = pd.DataFrame(stock_data).reset_index()"
   ]
  },
  {
   "cell_type": "code",
   "execution_count": 13,
   "id": "2c2d060c-6b22-4abc-9785-16bf233893fa",
   "metadata": {
    "tags": []
   },
   "outputs": [
    {
     "data": {
      "text/html": [
       "<div>\n",
       "<style scoped>\n",
       "    .dataframe tbody tr th:only-of-type {\n",
       "        vertical-align: middle;\n",
       "    }\n",
       "\n",
       "    .dataframe tbody tr th {\n",
       "        vertical-align: top;\n",
       "    }\n",
       "\n",
       "    .dataframe thead th {\n",
       "        text-align: right;\n",
       "    }\n",
       "</style>\n",
       "<table border=\"1\" class=\"dataframe\">\n",
       "  <thead>\n",
       "    <tr style=\"text-align: right;\">\n",
       "      <th></th>\n",
       "      <th>Date</th>\n",
       "      <th>MSFT</th>\n",
       "      <th>NVDA</th>\n",
       "      <th>ADBE</th>\n",
       "      <th>GOOGL</th>\n",
       "      <th>AMZN</th>\n",
       "    </tr>\n",
       "  </thead>\n",
       "  <tbody>\n",
       "    <tr>\n",
       "      <th>0</th>\n",
       "      <td>2021-01-04</td>\n",
       "      <td>211.605286</td>\n",
       "      <td>130.833954</td>\n",
       "      <td>485.339996</td>\n",
       "      <td>86.306503</td>\n",
       "      <td>159.331497</td>\n",
       "    </tr>\n",
       "    <tr>\n",
       "      <th>1</th>\n",
       "      <td>2021-01-05</td>\n",
       "      <td>211.809402</td>\n",
       "      <td>133.739777</td>\n",
       "      <td>485.690002</td>\n",
       "      <td>87.002502</td>\n",
       "      <td>160.925507</td>\n",
       "    </tr>\n",
       "    <tr>\n",
       "      <th>2</th>\n",
       "      <td>2021-01-06</td>\n",
       "      <td>206.317368</td>\n",
       "      <td>125.855408</td>\n",
       "      <td>466.309998</td>\n",
       "      <td>86.143997</td>\n",
       "      <td>156.919006</td>\n",
       "    </tr>\n",
       "    <tr>\n",
       "      <th>3</th>\n",
       "      <td>2021-01-07</td>\n",
       "      <td>212.188522</td>\n",
       "      <td>133.133713</td>\n",
       "      <td>477.739990</td>\n",
       "      <td>88.717003</td>\n",
       "      <td>158.108002</td>\n",
       "    </tr>\n",
       "    <tr>\n",
       "      <th>4</th>\n",
       "      <td>2021-01-08</td>\n",
       "      <td>213.481354</td>\n",
       "      <td>132.462738</td>\n",
       "      <td>485.100006</td>\n",
       "      <td>89.891502</td>\n",
       "      <td>159.134995</td>\n",
       "    </tr>\n",
       "  </tbody>\n",
       "</table>\n",
       "</div>"
      ],
      "text/plain": [
       "        Date        MSFT        NVDA        ADBE      GOOGL        AMZN\n",
       "0 2021-01-04  211.605286  130.833954  485.339996  86.306503  159.331497\n",
       "1 2021-01-05  211.809402  133.739777  485.690002  87.002502  160.925507\n",
       "2 2021-01-06  206.317368  125.855408  466.309998  86.143997  156.919006\n",
       "3 2021-01-07  212.188522  133.133713  477.739990  88.717003  158.108002\n",
       "4 2021-01-08  213.481354  132.462738  485.100006  89.891502  159.134995"
      ]
     },
     "execution_count": 13,
     "metadata": {},
     "output_type": "execute_result"
    }
   ],
   "source": [
    "df.head()"
   ]
  },
  {
   "cell_type": "code",
   "execution_count": 25,
   "id": "56e7a0b9-62d0-4d9a-8115-e6c841f9f564",
   "metadata": {},
   "outputs": [
    {
     "data": {
      "text/html": [
       "<div>\n",
       "<style scoped>\n",
       "    .dataframe tbody tr th:only-of-type {\n",
       "        vertical-align: middle;\n",
       "    }\n",
       "\n",
       "    .dataframe tbody tr th {\n",
       "        vertical-align: top;\n",
       "    }\n",
       "\n",
       "    .dataframe thead th {\n",
       "        text-align: right;\n",
       "    }\n",
       "</style>\n",
       "<table border=\"1\" class=\"dataframe\">\n",
       "  <thead>\n",
       "    <tr style=\"text-align: right;\">\n",
       "      <th></th>\n",
       "      <th>Date</th>\n",
       "      <th>chatgpt_sentiment_tech</th>\n",
       "      <th>aurora_sentiment_tech</th>\n",
       "      <th>bard_sentiment_tech</th>\n",
       "      <th>copilot_sentiment_tech</th>\n",
       "      <th>deepmind_sentiment_tech</th>\n",
       "      <th>drone_sentiment_tech</th>\n",
       "      <th>metaverse_sentiment_tech</th>\n",
       "      <th>mobileye_sentiment_tech</th>\n",
       "      <th>roomba_sentiment_tech</th>\n",
       "      <th>...</th>\n",
       "      <th>bard_sentiment_news</th>\n",
       "      <th>copilot_sentiment_news</th>\n",
       "      <th>deepmind_sentiment_news</th>\n",
       "      <th>drone_sentiment_news</th>\n",
       "      <th>metaverse_sentiment_news</th>\n",
       "      <th>mobileye_sentiment_news</th>\n",
       "      <th>roomba_sentiment_news</th>\n",
       "      <th>oculus_sentiment_news</th>\n",
       "      <th>waymo_sentiment_news</th>\n",
       "      <th>mean_sentiment_news</th>\n",
       "    </tr>\n",
       "  </thead>\n",
       "  <tbody>\n",
       "    <tr>\n",
       "      <th>0</th>\n",
       "      <td>2021-01-01</td>\n",
       "      <td>0.0</td>\n",
       "      <td>0.0</td>\n",
       "      <td>0.0</td>\n",
       "      <td>0.0</td>\n",
       "      <td>0.0</td>\n",
       "      <td>1.000000</td>\n",
       "      <td>0.0</td>\n",
       "      <td>0.0</td>\n",
       "      <td>0.0</td>\n",
       "      <td>...</td>\n",
       "      <td>0.0</td>\n",
       "      <td>0.0</td>\n",
       "      <td>0.0</td>\n",
       "      <td>0.0</td>\n",
       "      <td>0.0</td>\n",
       "      <td>0.0</td>\n",
       "      <td>0.0</td>\n",
       "      <td>0.0</td>\n",
       "      <td>0.0</td>\n",
       "      <td>0.000000</td>\n",
       "    </tr>\n",
       "    <tr>\n",
       "      <th>1</th>\n",
       "      <td>2021-01-02</td>\n",
       "      <td>0.0</td>\n",
       "      <td>0.0</td>\n",
       "      <td>0.0</td>\n",
       "      <td>0.0</td>\n",
       "      <td>0.0</td>\n",
       "      <td>-1.000000</td>\n",
       "      <td>0.0</td>\n",
       "      <td>0.0</td>\n",
       "      <td>0.0</td>\n",
       "      <td>...</td>\n",
       "      <td>0.0</td>\n",
       "      <td>0.0</td>\n",
       "      <td>0.0</td>\n",
       "      <td>1.0</td>\n",
       "      <td>0.0</td>\n",
       "      <td>0.0</td>\n",
       "      <td>0.0</td>\n",
       "      <td>0.0</td>\n",
       "      <td>0.0</td>\n",
       "      <td>0.090909</td>\n",
       "    </tr>\n",
       "    <tr>\n",
       "      <th>2</th>\n",
       "      <td>2021-01-03</td>\n",
       "      <td>0.0</td>\n",
       "      <td>0.0</td>\n",
       "      <td>0.0</td>\n",
       "      <td>0.0</td>\n",
       "      <td>0.0</td>\n",
       "      <td>1.000000</td>\n",
       "      <td>0.0</td>\n",
       "      <td>0.0</td>\n",
       "      <td>0.0</td>\n",
       "      <td>...</td>\n",
       "      <td>0.0</td>\n",
       "      <td>0.0</td>\n",
       "      <td>0.0</td>\n",
       "      <td>1.0</td>\n",
       "      <td>0.0</td>\n",
       "      <td>0.0</td>\n",
       "      <td>0.0</td>\n",
       "      <td>0.0</td>\n",
       "      <td>0.0</td>\n",
       "      <td>0.090909</td>\n",
       "    </tr>\n",
       "    <tr>\n",
       "      <th>3</th>\n",
       "      <td>2021-01-04</td>\n",
       "      <td>0.0</td>\n",
       "      <td>0.0</td>\n",
       "      <td>0.0</td>\n",
       "      <td>0.0</td>\n",
       "      <td>0.0</td>\n",
       "      <td>0.333333</td>\n",
       "      <td>0.0</td>\n",
       "      <td>0.0</td>\n",
       "      <td>0.0</td>\n",
       "      <td>...</td>\n",
       "      <td>0.0</td>\n",
       "      <td>0.0</td>\n",
       "      <td>0.0</td>\n",
       "      <td>1.0</td>\n",
       "      <td>0.0</td>\n",
       "      <td>0.0</td>\n",
       "      <td>0.0</td>\n",
       "      <td>1.0</td>\n",
       "      <td>0.0</td>\n",
       "      <td>0.181818</td>\n",
       "    </tr>\n",
       "    <tr>\n",
       "      <th>4</th>\n",
       "      <td>2021-01-06</td>\n",
       "      <td>0.0</td>\n",
       "      <td>0.0</td>\n",
       "      <td>0.0</td>\n",
       "      <td>0.0</td>\n",
       "      <td>0.0</td>\n",
       "      <td>-1.000000</td>\n",
       "      <td>0.0</td>\n",
       "      <td>0.0</td>\n",
       "      <td>1.0</td>\n",
       "      <td>...</td>\n",
       "      <td>0.0</td>\n",
       "      <td>0.0</td>\n",
       "      <td>0.0</td>\n",
       "      <td>0.0</td>\n",
       "      <td>0.0</td>\n",
       "      <td>0.0</td>\n",
       "      <td>0.0</td>\n",
       "      <td>0.0</td>\n",
       "      <td>-1.0</td>\n",
       "      <td>0.000000</td>\n",
       "    </tr>\n",
       "  </tbody>\n",
       "</table>\n",
       "<p>5 rows × 25 columns</p>\n",
       "</div>"
      ],
      "text/plain": [
       "         Date  chatgpt_sentiment_tech  aurora_sentiment_tech  \\\n",
       "0  2021-01-01                     0.0                    0.0   \n",
       "1  2021-01-02                     0.0                    0.0   \n",
       "2  2021-01-03                     0.0                    0.0   \n",
       "3  2021-01-04                     0.0                    0.0   \n",
       "4  2021-01-06                     0.0                    0.0   \n",
       "\n",
       "   bard_sentiment_tech  copilot_sentiment_tech  deepmind_sentiment_tech  \\\n",
       "0                  0.0                     0.0                      0.0   \n",
       "1                  0.0                     0.0                      0.0   \n",
       "2                  0.0                     0.0                      0.0   \n",
       "3                  0.0                     0.0                      0.0   \n",
       "4                  0.0                     0.0                      0.0   \n",
       "\n",
       "   drone_sentiment_tech  metaverse_sentiment_tech  mobileye_sentiment_tech  \\\n",
       "0              1.000000                       0.0                      0.0   \n",
       "1             -1.000000                       0.0                      0.0   \n",
       "2              1.000000                       0.0                      0.0   \n",
       "3              0.333333                       0.0                      0.0   \n",
       "4             -1.000000                       0.0                      0.0   \n",
       "\n",
       "   roomba_sentiment_tech  ...  bard_sentiment_news  copilot_sentiment_news  \\\n",
       "0                    0.0  ...                  0.0                     0.0   \n",
       "1                    0.0  ...                  0.0                     0.0   \n",
       "2                    0.0  ...                  0.0                     0.0   \n",
       "3                    0.0  ...                  0.0                     0.0   \n",
       "4                    1.0  ...                  0.0                     0.0   \n",
       "\n",
       "   deepmind_sentiment_news  drone_sentiment_news  metaverse_sentiment_news  \\\n",
       "0                      0.0                   0.0                       0.0   \n",
       "1                      0.0                   1.0                       0.0   \n",
       "2                      0.0                   1.0                       0.0   \n",
       "3                      0.0                   1.0                       0.0   \n",
       "4                      0.0                   0.0                       0.0   \n",
       "\n",
       "   mobileye_sentiment_news  roomba_sentiment_news  oculus_sentiment_news  \\\n",
       "0                      0.0                    0.0                    0.0   \n",
       "1                      0.0                    0.0                    0.0   \n",
       "2                      0.0                    0.0                    0.0   \n",
       "3                      0.0                    0.0                    1.0   \n",
       "4                      0.0                    0.0                    0.0   \n",
       "\n",
       "   waymo_sentiment_news  mean_sentiment_news  \n",
       "0                   0.0             0.000000  \n",
       "1                   0.0             0.090909  \n",
       "2                   0.0             0.090909  \n",
       "3                   0.0             0.181818  \n",
       "4                  -1.0             0.000000  \n",
       "\n",
       "[5 rows x 25 columns]"
      ]
     },
     "execution_count": 25,
     "metadata": {},
     "output_type": "execute_result"
    }
   ],
   "source": [
    "#import the sentiment score\n",
    "tech = pd.read_csv(\"tech_sentiment_daily.csv\")\n",
    "news = pd.read_csv(\"news_sentiment_daily.csv\")\n",
    "df1 = pd.merge(tech,news,on='created_date',how='inner',suffixes=('_tech', '_news')).rename(columns={'created_date':\"Date\"})\n",
    "df1.head()"
   ]
  },
  {
   "cell_type": "code",
   "execution_count": 27,
   "id": "fc421026-d56f-4dc3-8550-79f4e24dc223",
   "metadata": {},
   "outputs": [
    {
     "data": {
      "text/html": [
       "<div>\n",
       "<style scoped>\n",
       "    .dataframe tbody tr th:only-of-type {\n",
       "        vertical-align: middle;\n",
       "    }\n",
       "\n",
       "    .dataframe tbody tr th {\n",
       "        vertical-align: top;\n",
       "    }\n",
       "\n",
       "    .dataframe thead th {\n",
       "        text-align: right;\n",
       "    }\n",
       "</style>\n",
       "<table border=\"1\" class=\"dataframe\">\n",
       "  <thead>\n",
       "    <tr style=\"text-align: right;\">\n",
       "      <th></th>\n",
       "      <th>Date</th>\n",
       "      <th>chatgpt_sentiment_tech</th>\n",
       "      <th>aurora_sentiment_tech</th>\n",
       "      <th>bard_sentiment_tech</th>\n",
       "      <th>copilot_sentiment_tech</th>\n",
       "      <th>deepmind_sentiment_tech</th>\n",
       "      <th>drone_sentiment_tech</th>\n",
       "      <th>metaverse_sentiment_tech</th>\n",
       "      <th>mobileye_sentiment_tech</th>\n",
       "      <th>roomba_sentiment_tech</th>\n",
       "      <th>...</th>\n",
       "      <th>mobileye_sentiment_news</th>\n",
       "      <th>roomba_sentiment_news</th>\n",
       "      <th>oculus_sentiment_news</th>\n",
       "      <th>waymo_sentiment_news</th>\n",
       "      <th>mean_sentiment_news</th>\n",
       "      <th>MSFT</th>\n",
       "      <th>NVDA</th>\n",
       "      <th>ADBE</th>\n",
       "      <th>GOOGL</th>\n",
       "      <th>AMZN</th>\n",
       "    </tr>\n",
       "  </thead>\n",
       "  <tbody>\n",
       "    <tr>\n",
       "      <th>0</th>\n",
       "      <td>2021-01-04</td>\n",
       "      <td>0.0</td>\n",
       "      <td>0.0</td>\n",
       "      <td>0.0</td>\n",
       "      <td>0.0</td>\n",
       "      <td>0.0</td>\n",
       "      <td>0.333333</td>\n",
       "      <td>0.0</td>\n",
       "      <td>0.0</td>\n",
       "      <td>0.0</td>\n",
       "      <td>...</td>\n",
       "      <td>0.0</td>\n",
       "      <td>0.0</td>\n",
       "      <td>1.0</td>\n",
       "      <td>0.0</td>\n",
       "      <td>0.181818</td>\n",
       "      <td>211.605286</td>\n",
       "      <td>130.833954</td>\n",
       "      <td>485.339996</td>\n",
       "      <td>86.306503</td>\n",
       "      <td>159.331497</td>\n",
       "    </tr>\n",
       "    <tr>\n",
       "      <th>1</th>\n",
       "      <td>2021-01-06</td>\n",
       "      <td>0.0</td>\n",
       "      <td>0.0</td>\n",
       "      <td>0.0</td>\n",
       "      <td>0.0</td>\n",
       "      <td>0.0</td>\n",
       "      <td>-1.000000</td>\n",
       "      <td>0.0</td>\n",
       "      <td>0.0</td>\n",
       "      <td>1.0</td>\n",
       "      <td>...</td>\n",
       "      <td>0.0</td>\n",
       "      <td>0.0</td>\n",
       "      <td>0.0</td>\n",
       "      <td>-1.0</td>\n",
       "      <td>0.000000</td>\n",
       "      <td>206.317368</td>\n",
       "      <td>125.855408</td>\n",
       "      <td>466.309998</td>\n",
       "      <td>86.143997</td>\n",
       "      <td>156.919006</td>\n",
       "    </tr>\n",
       "    <tr>\n",
       "      <th>2</th>\n",
       "      <td>2021-01-07</td>\n",
       "      <td>0.0</td>\n",
       "      <td>0.0</td>\n",
       "      <td>0.0</td>\n",
       "      <td>0.0</td>\n",
       "      <td>0.0</td>\n",
       "      <td>0.000000</td>\n",
       "      <td>0.0</td>\n",
       "      <td>0.0</td>\n",
       "      <td>0.0</td>\n",
       "      <td>...</td>\n",
       "      <td>0.0</td>\n",
       "      <td>0.0</td>\n",
       "      <td>0.0</td>\n",
       "      <td>0.0</td>\n",
       "      <td>-0.030303</td>\n",
       "      <td>212.188522</td>\n",
       "      <td>133.133713</td>\n",
       "      <td>477.739990</td>\n",
       "      <td>88.717003</td>\n",
       "      <td>158.108002</td>\n",
       "    </tr>\n",
       "    <tr>\n",
       "      <th>3</th>\n",
       "      <td>2021-01-08</td>\n",
       "      <td>0.0</td>\n",
       "      <td>0.0</td>\n",
       "      <td>0.0</td>\n",
       "      <td>0.0</td>\n",
       "      <td>0.0</td>\n",
       "      <td>1.000000</td>\n",
       "      <td>0.0</td>\n",
       "      <td>0.0</td>\n",
       "      <td>0.0</td>\n",
       "      <td>...</td>\n",
       "      <td>0.0</td>\n",
       "      <td>0.0</td>\n",
       "      <td>0.0</td>\n",
       "      <td>0.0</td>\n",
       "      <td>-0.090909</td>\n",
       "      <td>213.481354</td>\n",
       "      <td>132.462738</td>\n",
       "      <td>485.100006</td>\n",
       "      <td>89.891502</td>\n",
       "      <td>159.134995</td>\n",
       "    </tr>\n",
       "    <tr>\n",
       "      <th>4</th>\n",
       "      <td>2021-01-11</td>\n",
       "      <td>0.0</td>\n",
       "      <td>0.0</td>\n",
       "      <td>0.0</td>\n",
       "      <td>0.0</td>\n",
       "      <td>0.0</td>\n",
       "      <td>-1.000000</td>\n",
       "      <td>0.0</td>\n",
       "      <td>0.0</td>\n",
       "      <td>0.0</td>\n",
       "      <td>...</td>\n",
       "      <td>0.0</td>\n",
       "      <td>0.0</td>\n",
       "      <td>0.0</td>\n",
       "      <td>0.0</td>\n",
       "      <td>-0.090909</td>\n",
       "      <td>211.410889</td>\n",
       "      <td>135.902313</td>\n",
       "      <td>474.239990</td>\n",
       "      <td>87.814499</td>\n",
       "      <td>155.710495</td>\n",
       "    </tr>\n",
       "  </tbody>\n",
       "</table>\n",
       "<p>5 rows × 30 columns</p>\n",
       "</div>"
      ],
      "text/plain": [
       "        Date  chatgpt_sentiment_tech  aurora_sentiment_tech  \\\n",
       "0 2021-01-04                     0.0                    0.0   \n",
       "1 2021-01-06                     0.0                    0.0   \n",
       "2 2021-01-07                     0.0                    0.0   \n",
       "3 2021-01-08                     0.0                    0.0   \n",
       "4 2021-01-11                     0.0                    0.0   \n",
       "\n",
       "   bard_sentiment_tech  copilot_sentiment_tech  deepmind_sentiment_tech  \\\n",
       "0                  0.0                     0.0                      0.0   \n",
       "1                  0.0                     0.0                      0.0   \n",
       "2                  0.0                     0.0                      0.0   \n",
       "3                  0.0                     0.0                      0.0   \n",
       "4                  0.0                     0.0                      0.0   \n",
       "\n",
       "   drone_sentiment_tech  metaverse_sentiment_tech  mobileye_sentiment_tech  \\\n",
       "0              0.333333                       0.0                      0.0   \n",
       "1             -1.000000                       0.0                      0.0   \n",
       "2              0.000000                       0.0                      0.0   \n",
       "3              1.000000                       0.0                      0.0   \n",
       "4             -1.000000                       0.0                      0.0   \n",
       "\n",
       "   roomba_sentiment_tech  ...  mobileye_sentiment_news  roomba_sentiment_news  \\\n",
       "0                    0.0  ...                      0.0                    0.0   \n",
       "1                    1.0  ...                      0.0                    0.0   \n",
       "2                    0.0  ...                      0.0                    0.0   \n",
       "3                    0.0  ...                      0.0                    0.0   \n",
       "4                    0.0  ...                      0.0                    0.0   \n",
       "\n",
       "   oculus_sentiment_news  waymo_sentiment_news  mean_sentiment_news  \\\n",
       "0                    1.0                   0.0             0.181818   \n",
       "1                    0.0                  -1.0             0.000000   \n",
       "2                    0.0                   0.0            -0.030303   \n",
       "3                    0.0                   0.0            -0.090909   \n",
       "4                    0.0                   0.0            -0.090909   \n",
       "\n",
       "         MSFT        NVDA        ADBE      GOOGL        AMZN  \n",
       "0  211.605286  130.833954  485.339996  86.306503  159.331497  \n",
       "1  206.317368  125.855408  466.309998  86.143997  156.919006  \n",
       "2  212.188522  133.133713  477.739990  88.717003  158.108002  \n",
       "3  213.481354  132.462738  485.100006  89.891502  159.134995  \n",
       "4  211.410889  135.902313  474.239990  87.814499  155.710495  \n",
       "\n",
       "[5 rows x 30 columns]"
      ]
     },
     "execution_count": 27,
     "metadata": {},
     "output_type": "execute_result"
    }
   ],
   "source": [
    "df1['Date'] = pd.to_datetime(df1['Date'])\n",
    "df['Date'] = pd.to_datetime(df['Date'])\n",
    "df2 = pd.merge(df1,df,how='inner', on='Date')\n",
    "df2.head()"
   ]
  },
  {
   "cell_type": "markdown",
   "id": "988aaab5-8756-4969-8eeb-fa2c3450edba",
   "metadata": {},
   "source": [
    "#### Model 1: Linear Regression Model"
   ]
  },
  {
   "cell_type": "code",
   "execution_count": 58,
   "id": "1b3acc25-20a3-4567-b2d7-815b08474ad0",
   "metadata": {
    "tags": []
   },
   "outputs": [],
   "source": [
    "X = df2[df2.columns.to_list()[1:-5]]\n",
    "y1 = df2['MSFT']\n",
    "y2 = df2['NVDA']\n",
    "y3 = df2['ADBE']\n",
    "y4 = df2['GOOGL']\n",
    "y5 = df2['AMZN']"
   ]
  },
  {
   "cell_type": "code",
   "execution_count": 70,
   "id": "1cb6d2be-b4a0-4de7-a4f3-25c28dca8639",
   "metadata": {
    "tags": []
   },
   "outputs": [],
   "source": [
    "from sklearn.model_selection import train_test_split\n",
    "from sklearn.linear_model import LinearRegression\n",
    "from sklearn.metrics import mean_squared_error\n",
    "X_train, X_test, y1_train, y1_test = train_test_split(X, y1, train_size=0.7, random_state=2529)\n",
    "_, _, y2_train, y2_test = train_test_split(X, y2, train_size=0.7, random_state=2529)\n",
    "_, _, y3_train, y3_test = train_test_split(X, y3, train_size=0.7, random_state=2529)\n",
    "_, _, y4_train, y4_test = train_test_split(X, y4, train_size=0.7, random_state=2529)\n",
    "_, _, y5_train, y5_test = train_test_split(X, y5, train_size=0.7, random_state=2529)"
   ]
  },
  {
   "cell_type": "code",
   "execution_count": 60,
   "id": "be692bac-96f8-4d3b-b4cd-65666b387f94",
   "metadata": {
    "tags": []
   },
   "outputs": [
    {
     "name": "stdout",
     "output_type": "stream",
     "text": [
      "RMSE for MSFT: 28.795268507325442\n",
      "RMSE for NVDA: 47.21344337187145\n",
      "RMSE for ADBE: 103.42934293039589\n",
      "RMSE for GOOGL: 16.72646346533192\n",
      "RMSE for AMZN: 26.894737297245555\n"
     ]
    },
    {
     "name": "stderr",
     "output_type": "stream",
     "text": [
      "/opt/conda/lib/python3.10/site-packages/sklearn/metrics/_regression.py:483: FutureWarning: 'squared' is deprecated in version 1.4 and will be removed in 1.6. To calculate the root mean squared error, use the function'root_mean_squared_error'.\n",
      "  warnings.warn(\n",
      "/opt/conda/lib/python3.10/site-packages/sklearn/metrics/_regression.py:483: FutureWarning: 'squared' is deprecated in version 1.4 and will be removed in 1.6. To calculate the root mean squared error, use the function'root_mean_squared_error'.\n",
      "  warnings.warn(\n",
      "/opt/conda/lib/python3.10/site-packages/sklearn/metrics/_regression.py:483: FutureWarning: 'squared' is deprecated in version 1.4 and will be removed in 1.6. To calculate the root mean squared error, use the function'root_mean_squared_error'.\n",
      "  warnings.warn(\n",
      "/opt/conda/lib/python3.10/site-packages/sklearn/metrics/_regression.py:483: FutureWarning: 'squared' is deprecated in version 1.4 and will be removed in 1.6. To calculate the root mean squared error, use the function'root_mean_squared_error'.\n",
      "  warnings.warn(\n",
      "/opt/conda/lib/python3.10/site-packages/sklearn/metrics/_regression.py:483: FutureWarning: 'squared' is deprecated in version 1.4 and will be removed in 1.6. To calculate the root mean squared error, use the function'root_mean_squared_error'.\n",
      "  warnings.warn(\n"
     ]
    }
   ],
   "source": [
    "# Function to train and evaluate\n",
    "def train_and_evaluate(X_train, X_test, y_train, y_test):\n",
    "    model = LinearRegression()\n",
    "    model.fit(X_train, y_train)\n",
    "    predictions = model.predict(X_test)\n",
    "    rmse = mean_squared_error(y_test, predictions, squared=False)  # Set squared=False for RMSE\n",
    "    return rmse\n",
    "\n",
    "# Calculate RMSE for each target\n",
    "rmse_y1 = train_and_evaluate(X_train, X_test, y1_train, y1_test)\n",
    "rmse_y2 = train_and_evaluate(X_train, X_test, y2_train, y2_test)\n",
    "rmse_y3 = train_and_evaluate(X_train, X_test, y3_train, y3_test)\n",
    "rmse_y4 = train_and_evaluate(X_train, X_test, y4_train, y4_test)\n",
    "rmse_y5 = train_and_evaluate(X_train, X_test, y5_train, y5_test)\n",
    "\n",
    "print(f\"RMSE for MSFT: {rmse_y1}\")\n",
    "print(f\"RMSE for NVDA: {rmse_y2}\")\n",
    "print(f\"RMSE for ADBE: {rmse_y3}\")\n",
    "print(f\"RMSE for GOOGL: {rmse_y4}\")\n",
    "print(f\"RMSE for AMZN: {rmse_y5}\")"
   ]
  },
  {
   "cell_type": "markdown",
   "id": "6bda8b28-0e52-4f08-bb9d-646d4072284f",
   "metadata": {},
   "source": [
    "The analysis of the RMSE values reveals that the sentiment scores for individual technical products, derived from both technology and news-themed subreddits, are valuable predictors of stock prices. Notably, the mean sentiment scores across all products within these categories also demonstrate significant predictive power. The data suggests that these sentiment metrics are particularly effective for forecasting Google's stock price, as indicated by the lowest RMSE among the evaluated stocks. This finding underscores the utility of sentiment analysis from specialized online communities in predicting stock market movements, especially for tech-oriented companies like Google."
   ]
  },
  {
   "cell_type": "markdown",
   "id": "f63146aa-e4c3-4f75-afb0-c3876b879d05",
   "metadata": {},
   "source": [
    "Then we delve into the Google to check the coefficients and try some regularization to make the model achieve its best performance."
   ]
  },
  {
   "cell_type": "code",
   "execution_count": 67,
   "id": "2c2b42ab-dedf-4a14-a524-d4d305b1d42d",
   "metadata": {
    "tags": []
   },
   "outputs": [],
   "source": [
    "from sklearn.linear_model import Ridge, Lasso\n",
    "from scipy import stats"
   ]
  },
  {
   "cell_type": "code",
   "execution_count": 68,
   "id": "de4fc477-3b8c-465d-b05c-a2838612ca1f",
   "metadata": {
    "tags": []
   },
   "outputs": [],
   "source": [
    "def train_and_evaluate_with_regularization(model, X_train, X_test, y_train, y_test):\n",
    "    model.fit(X_train, y_train)\n",
    "    predictions = model.predict(X_test)\n",
    "    rmse = mean_squared_error(y_test, predictions, squared=False)  # RMSE\n",
    "    coefficients = model.coef_\n",
    "    return rmse, coefficients"
   ]
  },
  {
   "cell_type": "code",
   "execution_count": 71,
   "id": "85552cb3-ebe5-43f5-953a-bffd98f0ea73",
   "metadata": {
    "tags": []
   },
   "outputs": [
    {
     "name": "stdout",
     "output_type": "stream",
     "text": [
      "RMSE (Ridge): 16.432223178021136\n",
      "Coefficients (Ridge): [-13.08904682 -16.96772396  -5.81188648   9.69457962   0.8161821\n",
      "  -0.33029967   0.93391915  -5.33917463  -3.87354191  -0.63191092\n",
      "   8.82144252  -2.34340555  -9.41534913  -2.17020055  -0.3145927\n",
      "   2.24204038  -9.04819519   2.0980212    2.54751867   7.42685616\n",
      "   2.43692281  -5.07960825  10.13427104   0.07797131]\n",
      "RMSE (Lasso): 16.234335968050186\n",
      "Coefficients (Lasso): [-13.41211077  -0.04763079  -2.79396748   6.59125012   0.\n",
      "  -0.48821629   0.21436249  -0.          -0.50253891  -0.\n",
      "   6.73234394  -0.          -8.78076045  -0.          -0.\n",
      "   0.          -1.83033288   2.12884025   2.28241148   0.\n",
      "   0.          -0.           7.88535659  -0.        ]\n"
     ]
    },
    {
     "name": "stderr",
     "output_type": "stream",
     "text": [
      "/opt/conda/lib/python3.10/site-packages/sklearn/metrics/_regression.py:483: FutureWarning: 'squared' is deprecated in version 1.4 and will be removed in 1.6. To calculate the root mean squared error, use the function'root_mean_squared_error'.\n",
      "  warnings.warn(\n",
      "/opt/conda/lib/python3.10/site-packages/sklearn/metrics/_regression.py:483: FutureWarning: 'squared' is deprecated in version 1.4 and will be removed in 1.6. To calculate the root mean squared error, use the function'root_mean_squared_error'.\n",
      "  warnings.warn(\n"
     ]
    }
   ],
   "source": [
    "# Select the model and alpha (regularization strength)\n",
    "ridge_model = Ridge(alpha=1.0)\n",
    "lasso_model = Lasso(alpha=0.1)\n",
    "\n",
    "# Use the function to train and evaluate\n",
    "rmse_ridge, coef_ridge = train_and_evaluate_with_regularization(ridge_model, X_train, X_test, y4_train, y4_test)\n",
    "rmse_lasso, coef_lasso = train_and_evaluate_with_regularization(lasso_model, X_train, X_test, y4_train, y4_test)\n",
    "\n",
    "print(f\"RMSE (Ridge): {rmse_ridge}\")\n",
    "print(f\"Coefficients (Ridge): {coef_ridge}\")\n",
    "print(f\"RMSE (Lasso): {rmse_lasso}\")\n",
    "print(f\"Coefficients (Lasso): {coef_lasso}\")"
   ]
  },
  {
   "cell_type": "markdown",
   "id": "9e15908c-6ed9-4e4f-9815-702b68bffe64",
   "metadata": {},
   "source": [
    "We can see the RMSE for Lasso is the lowest, which means some regularization is necessary. We then delve into Lasso(0.1) model."
   ]
  },
  {
   "cell_type": "code",
   "execution_count": 80,
   "id": "3b13ac38-00b6-4b15-83d6-ad82f8def418",
   "metadata": {
    "tags": []
   },
   "outputs": [
    {
     "name": "stdout",
     "output_type": "stream",
     "text": [
      "                          Coefficients\n",
      "chatgpt_sentiment_tech      -13.412111\n",
      "aurora_sentiment_tech        -0.047631\n",
      "bard_sentiment_tech          -2.793967\n",
      "copilot_sentiment_tech        6.591250\n",
      "deepmind_sentiment_tech       0.000000\n",
      "drone_sentiment_tech         -0.488216\n",
      "metaverse_sentiment_tech      0.214362\n",
      "mobileye_sentiment_tech      -0.000000\n",
      "roomba_sentiment_tech        -0.502539\n",
      "oculus_sentiment_tech        -0.000000\n",
      "waymo_sentiment_tech          6.732344\n",
      "mean_sentiment_tech          -0.000000\n",
      "chatgpt_sentiment_news       -8.780760\n",
      "aurora_sentiment_news        -0.000000\n",
      "bard_sentiment_news          -0.000000\n",
      "copilot_sentiment_news        0.000000\n",
      "deepmind_sentiment_news      -1.830333\n",
      "drone_sentiment_news          2.128840\n",
      "metaverse_sentiment_news      2.282411\n",
      "mobileye_sentiment_news       0.000000\n",
      "roomba_sentiment_news         0.000000\n",
      "oculus_sentiment_news        -0.000000\n",
      "waymo_sentiment_news          7.885357\n",
      "mean_sentiment_news          -0.000000\n"
     ]
    },
    {
     "data": {
      "text/plain": [
       "<Figure size 1500x800 with 0 Axes>"
      ]
     },
     "metadata": {},
     "output_type": "display_data"
    },
    {
     "data": {
      "image/png": "[encoded data removed]",
      "text/plain": [
       "<Figure size 640x480 with 1 Axes>"
      ]
     },
     "metadata": {},
     "output_type": "display_data"
    }
   ],
   "source": [
    "# Display the coefficients\n",
    "coefficients = pd.DataFrame(data=lasso_model.coef_, index=X_train.columns, columns=['Coefficients'])\n",
    "print(coefficients)\n",
    "\n",
    "# Make sure that the index of 'coefficients' DataFrame is set to the feature names if it's not already\n",
    "coefficients = coefficients.sort_values(by='Coefficients')  # Correcting the typo here\n",
    "\n",
    "# Plotting the coefficients\n",
    "plt.figure(figsize=(15, 8)) \n",
    "coefficients.plot(kind='bar', legend=False)  \n",
    "plt.title('Feature Coefficients from Lasso Model')\n",
    "plt.xlabel('Features')  \n",
    "plt.ylabel('Coefficient Value')\n",
    "plt.xticks(rotation=45, ha='right')  \n",
    "plt.tight_layout()  \n",
    "plt.show()"
   ]
  },
  {
   "cell_type": "markdown",
   "id": "186e9a8d-78e2-4853-9308-92c8031658af",
   "metadata": {},
   "source": [
    "The plot reveals that certain sentiment scores, notably those related to the tech category for some products, have a pronounced negative effect, whereas others, particularly within the news category, exert a strong positive influence. The length of each bar signifies the strength of the feature's coefficient, with longer bars signifying greater importance in the model. Notably, the coefficients of some features have been shrunk towards zero, which is a characteristic effect of Lasso regularization, emphasizing features that contribute the most to predicting the target variable while discarding less relevant ones."
   ]
  },
  {
   "cell_type": "markdown",
   "id": "f0c9cd04-213e-4cc4-89f0-6f5a51f62fa2",
   "metadata": {
    "tags": []
   },
   "source": [
    "#### Model 2: Decision Tree and Random Forest Model"
   ]
  },
  {
   "cell_type": "code",
   "execution_count": 62,
   "id": "ad7aa8c0-8d0c-4604-baaf-282126259703",
   "metadata": {
    "tags": []
   },
   "outputs": [],
   "source": [
    "from sklearn.ensemble import RandomForestRegressor\n",
    "from sklearn.tree import DecisionTreeRegressor\n",
    "from sklearn.metrics import mean_squared_error\n"
   ]
  },
  {
   "cell_type": "code",
   "execution_count": 65,
   "id": "6ac587b7-37fa-4cb5-b956-ae7259c5e234",
   "metadata": {
    "tags": []
   },
   "outputs": [],
   "source": [
    "def train_and_evaluate(model, X_train, X_test, y_train, y_test):\n",
    "    model.fit(X_train, y_train)\n",
    "    predictions = model.predict(X_test)\n",
    "    rmse = mean_squared_error(y_test, predictions, squared=False)  # RMSE\n",
    "    return rmse"
   ]
  },
  {
   "cell_type": "code",
   "execution_count": 63,
   "id": "4ee3d7c5-8978-4d32-aec0-895c1827f2f6",
   "metadata": {
    "tags": []
   },
   "outputs": [],
   "source": [
    "targets = ['MSFT', 'NVDA', 'ADBE', 'GOOGL', 'AMZN']\n",
    "X_train, X_test, y_train_dict, y_test_dict = {}, {}, {}, {}\n",
    "\n",
    "# Splitting data\n",
    "for target in targets:\n",
    "    y = df2[target]\n",
    "    X_train[target], X_test[target], y_train_dict[target], y_test_dict[target] = train_test_split(X, y, train_size=0.7, random_state=2529)"
   ]
  },
  {
   "cell_type": "code",
   "execution_count": 66,
   "id": "50422cc8-3093-47cc-b798-c8d40e162cdd",
   "metadata": {
    "tags": []
   },
   "outputs": [
    {
     "name": "stderr",
     "output_type": "stream",
     "text": [
      "/opt/conda/lib/python3.10/site-packages/sklearn/metrics/_regression.py:483: FutureWarning: 'squared' is deprecated in version 1.4 and will be removed in 1.6. To calculate the root mean squared error, use the function'root_mean_squared_error'.\n",
      "  warnings.warn(\n"
     ]
    },
    {
     "name": "stdout",
     "output_type": "stream",
     "text": [
      "RMSE for MSFT using Random Forest: 26.99915359404366\n"
     ]
    },
    {
     "name": "stderr",
     "output_type": "stream",
     "text": [
      "/opt/conda/lib/python3.10/site-packages/sklearn/metrics/_regression.py:483: FutureWarning: 'squared' is deprecated in version 1.4 and will be removed in 1.6. To calculate the root mean squared error, use the function'root_mean_squared_error'.\n",
      "  warnings.warn(\n"
     ]
    },
    {
     "name": "stdout",
     "output_type": "stream",
     "text": [
      "RMSE for NVDA using Random Forest: 49.26399609109699\n"
     ]
    },
    {
     "name": "stderr",
     "output_type": "stream",
     "text": [
      "/opt/conda/lib/python3.10/site-packages/sklearn/metrics/_regression.py:483: FutureWarning: 'squared' is deprecated in version 1.4 and will be removed in 1.6. To calculate the root mean squared error, use the function'root_mean_squared_error'.\n",
      "  warnings.warn(\n"
     ]
    },
    {
     "name": "stdout",
     "output_type": "stream",
     "text": [
      "RMSE for ADBE using Random Forest: 98.67131575040078\n"
     ]
    },
    {
     "name": "stderr",
     "output_type": "stream",
     "text": [
      "/opt/conda/lib/python3.10/site-packages/sklearn/metrics/_regression.py:483: FutureWarning: 'squared' is deprecated in version 1.4 and will be removed in 1.6. To calculate the root mean squared error, use the function'root_mean_squared_error'.\n",
      "  warnings.warn(\n"
     ]
    },
    {
     "name": "stdout",
     "output_type": "stream",
     "text": [
      "RMSE for GOOGL using Random Forest: 16.092053336631185\n",
      "RMSE for AMZN using Random Forest: 25.37289105638457\n",
      "RMSE for MSFT using Decision Tree: 34.30098205448226\n",
      "RMSE for NVDA using Decision Tree: 65.46437379199376\n",
      "RMSE for ADBE using Decision Tree: 122.14134727421417\n",
      "RMSE for GOOGL using Decision Tree: 20.53803847214092\n",
      "RMSE for AMZN using Decision Tree: 30.853703299463344\n"
     ]
    },
    {
     "name": "stderr",
     "output_type": "stream",
     "text": [
      "/opt/conda/lib/python3.10/site-packages/sklearn/metrics/_regression.py:483: FutureWarning: 'squared' is deprecated in version 1.4 and will be removed in 1.6. To calculate the root mean squared error, use the function'root_mean_squared_error'.\n",
      "  warnings.warn(\n",
      "/opt/conda/lib/python3.10/site-packages/sklearn/metrics/_regression.py:483: FutureWarning: 'squared' is deprecated in version 1.4 and will be removed in 1.6. To calculate the root mean squared error, use the function'root_mean_squared_error'.\n",
      "  warnings.warn(\n",
      "/opt/conda/lib/python3.10/site-packages/sklearn/metrics/_regression.py:483: FutureWarning: 'squared' is deprecated in version 1.4 and will be removed in 1.6. To calculate the root mean squared error, use the function'root_mean_squared_error'.\n",
      "  warnings.warn(\n",
      "/opt/conda/lib/python3.10/site-packages/sklearn/metrics/_regression.py:483: FutureWarning: 'squared' is deprecated in version 1.4 and will be removed in 1.6. To calculate the root mean squared error, use the function'root_mean_squared_error'.\n",
      "  warnings.warn(\n",
      "/opt/conda/lib/python3.10/site-packages/sklearn/metrics/_regression.py:483: FutureWarning: 'squared' is deprecated in version 1.4 and will be removed in 1.6. To calculate the root mean squared error, use the function'root_mean_squared_error'.\n",
      "  warnings.warn(\n",
      "/opt/conda/lib/python3.10/site-packages/sklearn/metrics/_regression.py:483: FutureWarning: 'squared' is deprecated in version 1.4 and will be removed in 1.6. To calculate the root mean squared error, use the function'root_mean_squared_error'.\n",
      "  warnings.warn(\n"
     ]
    }
   ],
   "source": [
    "models = {\n",
    "    'Random Forest': RandomForestRegressor(n_estimators=100, random_state=2529),\n",
    "    'Decision Tree': DecisionTreeRegressor(random_state=2529)\n",
    "}\n",
    "\n",
    "# Storing results\n",
    "results = {model_name: {} for model_name in models.keys()}\n",
    "\n",
    "for model_name, model in models.items():\n",
    "    for target in targets:\n",
    "        rmse = train_and_evaluate(model,\n",
    "                                  X_train[target], X_test[target],\n",
    "                                  y_train_dict[target], y_test_dict[target])\n",
    "        results[model_name][target] = rmse\n",
    "        print(f\"RMSE for {target} using {model_name}: {rmse}\")"
   ]
  },
  {
   "cell_type": "markdown",
   "id": "6122a0a5-e9d9-4495-acdb-656d2d1722ba",
   "metadata": {},
   "source": [
    "The analysis of RMSE values clearly indicates that the Random Forest model outperforms the Decision Tree model, particularly in predicting Google's stock price, as evidenced by its lower RMSE. Additionally, the Random Forest model shows a slight edge over the Lasso model in terms of predictive accuracy. Given these results, it would be prudent to further investigate the Random Forest model to understand its effectiveness better. By examining the feature importance metrics within this model, we can identify which variables most significantly impact Google's stock price, providing valuable insights for future modeling and decision-making processes."
   ]
  },
  {
   "cell_type": "code",
   "execution_count": 81,
   "id": "9e00592a-e0b5-44e6-b180-422c4ff23ec6",
   "metadata": {
    "tags": []
   },
   "outputs": [
    {
     "data": {
      "image/png": "[encoded data removed]",
      "text/plain": [
       "<Figure size 1000x600 with 1 Axes>"
      ]
     },
     "metadata": {},
     "output_type": "display_data"
    }
   ],
   "source": [
    "random_forest = RandomForestRegressor(n_estimators=100, random_state=2529)\n",
    "random_forest.fit(X_train, y4_train)\n",
    "feature_importances = random_forest.feature_importances_\n",
    "# Creating a DataFrame for better visualization\n",
    "features_df = pd.DataFrame({\n",
    "    'Feature': X.columns,\n",
    "    'Importance': feature_importances\n",
    "}).sort_values(by='Importance', ascending=False)\n",
    "\n",
    "# Plotting the feature importances\n",
    "plt.figure(figsize=(10, 6))\n",
    "plt.barh(features_df['Feature'], features_df['Importance'])\n",
    "plt.xlabel('Importance')\n",
    "plt.ylabel('Feature')\n",
    "plt.title('Feature Importance from Random Forest Model')\n",
    "plt.gca().invert_yaxis()  # Invert y-axis to have the most important features at the top\n",
    "plt.show()"
   ]
  },
  {
   "cell_type": "markdown",
   "id": "78c236d9-5c83-4ffe-ba18-6117b28fc8c8",
   "metadata": {},
   "source": [
    "In this case, 'chatgpt_sentiment_tech' appears to be the most influential feature, with the highest importance score, suggesting it has the strongest relationship with the model’s output variable. The features 'metaverse_sentiment_tech', 'mean_sentiment_tech', and 'mean_sentiment_news' follow as the next most significant. On the other hand, 'bard_sentiment_tech' has the lowest importance score, indicating it has the least influence on the model's predictions."
   ]
  },
  {
   "cell_type": "markdown",
   "id": "8aa8d76f-c6d8-4f1b-8b70-50ed79b99db5",
   "metadata": {},
   "source": [
    "### 10.  Classifying post origins between `r/Technology` and `r/News`?\n",
    "\n",
    "We plan to use a variety of classifier models to determine whether a post originates from `r/Technology`, which reflects public opinion, or `r/News`, which represents media opinion. Our analysis will leverage various features from the dataset, with a particular focus on the textual content of the posts. We aim to identify and understand the distinctive features and language used in each subreddit's discussions.\n",
    "This will test the accuracy of our classification models and aims to reveal the unique textual elements that differentiate public-driven discussions in `r/Technology` from media-oriented narratives in `r/News`. By pinpointing these distinguishing features, we hope to gain a deeper insight into the content and communication styles in each subreddit, enhancing our understanding of how different audiences engage with technology-related topics."
   ]
  },
  {
   "cell_type": "code",
   "execution_count": 82,
   "id": "76cdbf7c-e5af-4211-9860-963c8b80ede3",
   "metadata": {},
   "outputs": [
    {
     "name": "stdout",
     "output_type": "stream",
     "text": [
      "CPU times: user 0 ns, sys: 6.06 ms, total: 6.06 ms\n",
      "Wall time: 1.05 s\n"
     ]
    }
   ],
   "source": [
    "%%time\n",
    "news_submissions = spark.read.parquet(\"filter_news_sub.parquet\", header=True)\n",
    "technology_submissions = spark.read.parquet(\"filter_tech_sub.parquet\", header=True)"
   ]
  },
  {
   "cell_type": "code",
   "execution_count": 83,
   "id": "012e15fc-125f-492f-b04e-e9c410360080",
   "metadata": {
    "tags": []
   },
   "outputs": [
    {
     "data": {
      "text/plain": [
       "4176"
      ]
     },
     "execution_count": 83,
     "metadata": {},
     "output_type": "execute_result"
    }
   ],
   "source": [
    "news_submissions.count()"
   ]
  },
  {
   "cell_type": "code",
   "execution_count": 84,
   "id": "f6690a2d-4334-467d-bb38-75e687d1f88d",
   "metadata": {
    "tags": []
   },
   "outputs": [
    {
     "data": {
      "text/plain": [
       "8497"
      ]
     },
     "execution_count": 84,
     "metadata": {},
     "output_type": "execute_result"
    }
   ],
   "source": [
    "technology_submissions.count()"
   ]
  },
  {
   "cell_type": "code",
   "execution_count": 89,
   "id": "e90a5d2b-dd02-4f77-8ba3-8166f8c74fbe",
   "metadata": {
    "tags": []
   },
   "outputs": [],
   "source": [
    "news_submissions = news_submissions.withColumn(\"subreddit\", lit(\"news\"))\n",
    "technology_submissions = technology_submissions.withColumn(\"subreddit\", lit(\"technology\"))"
   ]
  },
  {
   "cell_type": "code",
   "execution_count": 90,
   "id": "4c47ee3f-03a3-443a-8c80-6651e824dca3",
   "metadata": {
    "tags": []
   },
   "outputs": [],
   "source": [
    "# Select 3000 samples from each submission set\n",
    "df_news_sampled = news_submissions.sample(fraction=3000/4176, seed=999).orderBy(F.rand()).limit(3000)\n",
    "df_tech_sampled = technology_submissions.sample(fraction=3000/8497, seed=999).orderBy(F.rand()).limit(3000)"
   ]
  },
  {
   "cell_type": "code",
   "execution_count": 91,
   "id": "d6f38893-670d-4e69-bdd3-d5ef5f196ef1",
   "metadata": {
    "tags": []
   },
   "outputs": [
    {
     "data": {
      "text/plain": [
       "6000"
      ]
     },
     "execution_count": 91,
     "metadata": {},
     "output_type": "execute_result"
    }
   ],
   "source": [
    "df = df_news_sampled.union(df_tech_sampled)\n",
    "df.count()"
   ]
  },
  {
   "cell_type": "code",
   "execution_count": 92,
   "id": "8089a131-68ed-4704-afce-13985e4da379",
   "metadata": {
    "tags": []
   },
   "outputs": [],
   "source": [
    "# Create a binary label column based on subreddit\n",
    "df = df.withColumn(\"label\", F.when(F.col(\"subreddit\") == \"news\", 1).otherwise(0))"
   ]
  },
  {
   "cell_type": "code",
   "execution_count": 98,
   "id": "ddca54f8-2cf6-4601-8833-82c23a343f44",
   "metadata": {
    "tags": []
   },
   "outputs": [
    {
     "name": "stdout",
     "output_type": "stream",
     "text": [
      "+------------+--------------------+--------------------+---------+-----+\n",
      "|created_date|         final_words|      final_sentence|subreddit|label|\n",
      "+------------+--------------------+--------------------+---------+-----+\n",
      "|  2022-05-24|[goggle, deepmind...|goggle deepmind g...|     news|    1|\n",
      "|  2022-10-10|[ai, model, draw,...| ai model draw image|     news|    1|\n",
      "|  2021-06-10|[robotic, prosthe...|robotic prostheti...|     news|    1|\n",
      "|  2021-08-03|[improve, digital...|improve digital e...|     news|    1|\n",
      "|  2022-05-16|[state, art, ai, ...|state art ai imag...|     news|    1|\n",
      "+------------+--------------------+--------------------+---------+-----+\n",
      "only showing top 5 rows\n",
      "\n"
     ]
    }
   ],
   "source": [
    "df.show(5)"
   ]
  },
  {
   "cell_type": "markdown",
   "id": "12515ba7-bd87-41b9-86b4-bc84e52a1eeb",
   "metadata": {},
   "source": [
    "#### Create CountVectorizer and Assembler, split data into Train/Test"
   ]
  },
  {
   "cell_type": "code",
   "execution_count": 99,
   "id": "cff12073-1b5d-4fa3-845a-95daa79bf913",
   "metadata": {},
   "outputs": [
    {
     "name": "stderr",
     "output_type": "stream",
     "text": [
      "                                                                                \r"
     ]
    }
   ],
   "source": [
    "cv = CountVectorizer(inputCol=\"final_words\", outputCol=\"words_vec\")\n",
    "# Fit the transformer to the data\n",
    "cv_model = cv.fit(df)\n",
    "\n",
    "# Transform the data\n",
    "df = cv_model.transform(df)"
   ]
  },
  {
   "cell_type": "code",
   "execution_count": 100,
   "id": "d533fa91-fa35-4248-8132-d82de3db34f0",
   "metadata": {},
   "outputs": [],
   "source": [
    "# Split the data into training and test sets\n",
    "(train, test) = df.randomSplit([0.75, 0.25], seed=999)"
   ]
  },
  {
   "cell_type": "code",
   "execution_count": 103,
   "id": "a69fe0e5-8029-486b-823f-837a6dc44003",
   "metadata": {},
   "outputs": [],
   "source": [
    "# Assemble the features into a vector\n",
    "assembler = VectorAssembler(inputCols=[\"words_vec\"], outputCol=\"features\")\n",
    "train_data = assembler.transform(train)\n",
    "test_data = assembler.transform(test)"
   ]
  },
  {
   "cell_type": "markdown",
   "id": "c2cbaee9-bd30-47e2-a43e-aa32053c3667",
   "metadata": {},
   "source": [
    "#### Model 1: Logistic Regression Model"
   ]
  },
  {
   "cell_type": "code",
   "execution_count": 107,
   "id": "2e736fad-7880-4a8a-9754-0d0b888ad05c",
   "metadata": {
    "tags": []
   },
   "outputs": [
    {
     "name": "stderr",
     "output_type": "stream",
     "text": [
      "                                                                                \r"
     ]
    }
   ],
   "source": [
    "# Create a logistic regression model\n",
    "lr = LogisticRegression(featuresCol=\"features\", labelCol=\"label\", maxIter=10)\n",
    "\n",
    "# Fit the model on the training data\n",
    "model = lr.fit(train_data)\n",
    "\n",
    "# Make predictions on the test data\n",
    "predictions = model.transform(test_data)\n",
    "\n",
    "# Evaluate the model using accuracy\n",
    "evaluator = MulticlassClassificationEvaluator(metricName=\"accuracy\")\n",
    "accuracy = evaluator.evaluate(predictions)\n",
    "\n",
    "l_fpr, l_tpr, l_thresholds = roc_curve(predictions.select(\"label\").collect(), predictions.select(\"probability\").rdd.map(lambda x: x[0][1]).collect())\n",
    "l_roc_auc = auc(l_fpr, l_tpr)"
   ]
  },
  {
   "cell_type": "code",
   "execution_count": 108,
   "id": "48d9a7b7-5bac-4478-8470-5df79dcc9b11",
   "metadata": {
    "tags": []
   },
   "outputs": [
    {
     "name": "stdout",
     "output_type": "stream",
     "text": [
      "Logistic Regression Accuracy = 0.680344\n"
     ]
    }
   ],
   "source": [
    "print(\"Logistic Regression Accuracy = %g\" % accuracy)"
   ]
  },
  {
   "cell_type": "markdown",
   "id": "46e511b3-1866-48af-83f6-29401224e008",
   "metadata": {},
   "source": [
    "#### Model 2: Random Forest Model"
   ]
  },
  {
   "cell_type": "code",
   "execution_count": 109,
   "id": "f102d777-68bd-4d87-a03c-376172103d2d",
   "metadata": {
    "tags": []
   },
   "outputs": [
    {
     "name": "stderr",
     "output_type": "stream",
     "text": [
      "                                                                                \r"
     ]
    },
    {
     "name": "stdout",
     "output_type": "stream",
     "text": [
      "24/04/23 18:55:11 WARN DAGScheduler: Broadcasting large task binary with size 1036.3 KiB\n"
     ]
    },
    {
     "name": "stderr",
     "output_type": "stream",
     "text": [
      "                                                                                \r"
     ]
    },
    {
     "name": "stdout",
     "output_type": "stream",
     "text": [
      "24/04/23 18:55:12 WARN DAGScheduler: Broadcasting large task binary with size 1041.6 KiB\n",
      "24/04/23 18:55:12 WARN DAGScheduler: Broadcasting large task binary with size 1048.2 KiB\n",
      "24/04/23 18:55:12 WARN DAGScheduler: Broadcasting large task binary with size 1055.6 KiB\n",
      "24/04/23 18:55:13 WARN DAGScheduler: Broadcasting large task binary with size 1063.2 KiB\n"
     ]
    },
    {
     "name": "stderr",
     "output_type": "stream",
     "text": [
      "                                                                                \r"
     ]
    }
   ],
   "source": [
    "# Create a random forest classifier model\n",
    "rf = RandomForestClassifier(numTrees=10, maxDepth=5)\n",
    "\n",
    "# Fit the model on the training data\n",
    "model = rf.fit(train_data)\n",
    "\n",
    "# Make predictions on the test data\n",
    "predictions = model.transform(test_data)\n",
    "\n",
    "# Evaluate the model using ROC AUC\n",
    "rf_fpr, rf_tpr, thresholds = roc_curve(predictions.select(\"label\").collect(), predictions.select(\"probability\").rdd.map(lambda x: x[0][1]).collect())\n",
    "rf_roc_auc = auc(rf_fpr, rf_tpr)"
   ]
  },
  {
   "cell_type": "code",
   "execution_count": 110,
   "id": "7a426e19-f1fd-4d9c-bf0d-e409662aa1b5",
   "metadata": {
    "tags": []
   },
   "outputs": [
    {
     "name": "stdout",
     "output_type": "stream",
     "text": [
      "Random Forest Accuracy: 0.6730641958967571\n"
     ]
    }
   ],
   "source": [
    "# Evaluate the model using accuracy\n",
    "evaluator = MulticlassClassificationEvaluator(metricName=\"accuracy\")\n",
    "accuracy = evaluator.evaluate(predictions)\n",
    "print(\"Random Forest Accuracy:\", accuracy)"
   ]
  },
  {
   "cell_type": "markdown",
   "id": "ef777d66-feb0-4b66-831a-4bb6806543ef",
   "metadata": {},
   "source": [
    "#### Model 3: Naive Bayes Model"
   ]
  },
  {
   "cell_type": "code",
   "execution_count": 111,
   "id": "099acee6-a225-4726-880d-9f2e18b444ad",
   "metadata": {
    "tags": []
   },
   "outputs": [],
   "source": [
    "# create the trainer and set its parameters\n",
    "nb = NaiveBayes(smoothing=1.0, modelType=\"multinomial\")\n",
    "\n",
    "# train the model\n",
    "nb_model = nb.fit(train_data)\n",
    "\n",
    "# select example rows to display.\n",
    "predictions = nb_model.transform(test_data)\n",
    "\n",
    "# Evaluate the model using ROC AUC\n",
    "nb_fpr, nb_tpr, thresholds = roc_curve(predictions.select(\"label\").collect(), predictions.select(\"probability\").rdd.map(lambda x: x[0][1]).collect())\n",
    "nb_roc_auc = auc(nb_fpr, nb_tpr)"
   ]
  },
  {
   "cell_type": "code",
   "execution_count": 112,
   "id": "10429051-9b3d-46e2-8e6c-ceeebb07659d",
   "metadata": {
    "tags": []
   },
   "outputs": [
    {
     "name": "stdout",
     "output_type": "stream",
     "text": [
      "Naive Bayes Accuracy: 74.72%\n"
     ]
    }
   ],
   "source": [
    "# Evaluate the model using accuracy\n",
    "evaluator = MulticlassClassificationEvaluator(labelCol=\"label\", predictionCol=\"prediction\",\n",
    "                                              metricName=\"accuracy\")\n",
    "accuracy = evaluator.evaluate(predictions)\n",
    "# Print the accuracy\n",
    "print(\"Naive Bayes Accuracy: {:.2f}%\".format(accuracy*100))"
   ]
  },
  {
   "cell_type": "markdown",
   "id": "1a0252f5-057b-4b15-ae3c-1474e32bd099",
   "metadata": {},
   "source": [
    "#### Plot ROC-AUC to evaluate model results"
   ]
  },
  {
   "cell_type": "code",
   "execution_count": 113,
   "id": "2953ab27-1ba7-4cf4-ad90-57742ca2fa3a",
   "metadata": {
    "tags": []
   },
   "outputs": [
    {
     "data": {
      "image/png": "[encoded data removed]",
      "text/plain": [
       "<Figure size 800x600 with 1 Axes>"
      ]
     },
     "metadata": {},
     "output_type": "display_data"
    }
   ],
   "source": [
    "# Create a plot of the ROC curve\n",
    "plt.figure(figsize=(8,6))\n",
    "lw = 2\n",
    "plt.plot(l_fpr, l_tpr, color='darkorange', lw=lw, label='Logistic Regression (area = %0.2f)' % l_roc_auc)\n",
    "plt.plot(nb_fpr, nb_tpr, color='navy', lw=lw, label='Naive Bayes (area = %0.2f)' % nb_roc_auc)\n",
    "plt.plot(rf_fpr, rf_tpr, color='darkgreen', lw=lw, label='Random Forest (area = %0.2f)' % rf_roc_auc)\n",
    "plt.plot([0, 1], [0, 1], color='darkgoldenrod', lw=lw, linestyle='--')\n",
    "plt.xlim([0.0, 1.0])\n",
    "plt.ylim([0.0, 1.05])\n",
    "plt.xlabel('False Positive Rate')\n",
    "plt.ylabel('True Positive Rate')\n",
    "plt.title('ROC-AUC - Predict the subreddict of the submission')\n",
    "plt.legend(loc=\"lower right\")\n",
    "plt.show()"
   ]
  }
 ],
 "metadata": {
  "availableInstances": [
   {
    "_defaultOrder": 0,
    "_isFastLaunch": true,
    "category": "General purpose",
    "gpuNum": 0,
    "hideHardwareSpecs": false,
    "memoryGiB": 4,
    "name": "ml.t3.medium",
    "vcpuNum": 2
   },
   {
    "_defaultOrder": 1,
    "_isFastLaunch": false,
    "category": "General purpose",
    "gpuNum": 0,
    "hideHardwareSpecs": false,
    "memoryGiB": 8,
    "name": "ml.t3.large",
    "vcpuNum": 2
   },
   {
    "_defaultOrder": 2,
    "_isFastLaunch": false,
    "category": "General purpose",
    "gpuNum": 0,
    "hideHardwareSpecs": false,
    "memoryGiB": 16,
    "name": "ml.t3.xlarge",
    "vcpuNum": 4
   },
   {
    "_defaultOrder": 3,
    "_isFastLaunch": false,
    "category": "General purpose",
    "gpuNum": 0,
    "hideHardwareSpecs": false,
    "memoryGiB": 32,
    "name": "ml.t3.2xlarge",
    "vcpuNum": 8
   },
   {
    "_defaultOrder": 4,
    "_isFastLaunch": true,
    "category": "General purpose",
    "gpuNum": 0,
    "hideHardwareSpecs": false,
    "memoryGiB": 8,
    "name": "ml.m5.large",
    "vcpuNum": 2
   },
   {
    "_defaultOrder": 5,
    "_isFastLaunch": false,
    "category": "General purpose",
    "gpuNum": 0,
    "hideHardwareSpecs": false,
    "memoryGiB": 16,
    "name": "ml.m5.xlarge",
    "vcpuNum": 4
   },
   {
    "_defaultOrder": 6,
    "_isFastLaunch": false,
    "category": "General purpose",
    "gpuNum": 0,
    "hideHardwareSpecs": false,
    "memoryGiB": 32,
    "name": "ml.m5.2xlarge",
    "vcpuNum": 8
   },
   {
    "_defaultOrder": 7,
    "_isFastLaunch": false,
    "category": "General purpose",
    "gpuNum": 0,
    "hideHardwareSpecs": false,
    "memoryGiB": 64,
    "name": "ml.m5.4xlarge",
    "vcpuNum": 16
   },
   {
    "_defaultOrder": 8,
    "_isFastLaunch": false,
    "category": "General purpose",
    "gpuNum": 0,
    "hideHardwareSpecs": false,
    "memoryGiB": 128,
    "name": "ml.m5.8xlarge",
    "vcpuNum": 32
   },
   {
    "_defaultOrder": 9,
    "_isFastLaunch": false,
    "category": "General purpose",
    "gpuNum": 0,
    "hideHardwareSpecs": false,
    "memoryGiB": 192,
    "name": "ml.m5.12xlarge",
    "vcpuNum": 48
   },
   {
    "_defaultOrder": 10,
    "_isFastLaunch": false,
    "category": "General purpose",
    "gpuNum": 0,
    "hideHardwareSpecs": false,
    "memoryGiB": 256,
    "name": "ml.m5.16xlarge",
    "vcpuNum": 64
   },
   {
    "_defaultOrder": 11,
    "_isFastLaunch": false,
    "category": "General purpose",
    "gpuNum": 0,
    "hideHardwareSpecs": false,
    "memoryGiB": 384,
    "name": "ml.m5.24xlarge",
    "vcpuNum": 96
   },
   {
    "_defaultOrder": 12,
    "_isFastLaunch": false,
    "category": "General purpose",
    "gpuNum": 0,
    "hideHardwareSpecs": false,
    "memoryGiB": 8,
    "name": "ml.m5d.large",
    "vcpuNum": 2
   },
   {
    "_defaultOrder": 13,
    "_isFastLaunch": false,
    "category": "General purpose",
    "gpuNum": 0,
    "hideHardwareSpecs": false,
    "memoryGiB": 16,
    "name": "ml.m5d.xlarge",
    "vcpuNum": 4
   },
   {
    "_defaultOrder": 14,
    "_isFastLaunch": false,
    "category": "General purpose",
    "gpuNum": 0,
    "hideHardwareSpecs": false,
    "memoryGiB": 32,
    "name": "ml.m5d.2xlarge",
    "vcpuNum": 8
   },
   {
    "_defaultOrder": 15,
    "_isFastLaunch": false,
    "category": "General purpose",
    "gpuNum": 0,
    "hideHardwareSpecs": false,
    "memoryGiB": 64,
    "name": "ml.m5d.4xlarge",
    "vcpuNum": 16
   },
   {
    "_defaultOrder": 16,
    "_isFastLaunch": false,
    "category": "General purpose",
    "gpuNum": 0,
    "hideHardwareSpecs": false,
    "memoryGiB": 128,
    "name": "ml.m5d.8xlarge",
    "vcpuNum": 32
   },
   {
    "_defaultOrder": 17,
    "_isFastLaunch": false,
    "category": "General purpose",
    "gpuNum": 0,
    "hideHardwareSpecs": false,
    "memoryGiB": 192,
    "name": "ml.m5d.12xlarge",
    "vcpuNum": 48
   },
   {
    "_defaultOrder": 18,
    "_isFastLaunch": false,
    "category": "General purpose",
    "gpuNum": 0,
    "hideHardwareSpecs": false,
    "memoryGiB": 256,
    "name": "ml.m5d.16xlarge",
    "vcpuNum": 64
   },
   {
    "_defaultOrder": 19,
    "_isFastLaunch": false,
    "category": "General purpose",
    "gpuNum": 0,
    "hideHardwareSpecs": false,
    "memoryGiB": 384,
    "name": "ml.m5d.24xlarge",
    "vcpuNum": 96
   },
   {
    "_defaultOrder": 20,
    "_isFastLaunch": false,
    "category": "General purpose",
    "gpuNum": 0,
    "hideHardwareSpecs": true,
    "memoryGiB": 0,
    "name": "ml.geospatial.interactive",
    "supportedImageNames": [
     "sagemaker-geospatial-v1-0"
    ],
    "vcpuNum": 0
   },
   {
    "_defaultOrder": 21,
    "_isFastLaunch": true,
    "category": "Compute optimized",
    "gpuNum": 0,
    "hideHardwareSpecs": false,
    "memoryGiB": 4,
    "name": "ml.c5.large",
    "vcpuNum": 2
   },
   {
    "_defaultOrder": 22,
    "_isFastLaunch": false,
    "category": "Compute optimized",
    "gpuNum": 0,
    "hideHardwareSpecs": false,
    "memoryGiB": 8,
    "name": "ml.c5.xlarge",
    "vcpuNum": 4
   },
   {
    "_defaultOrder": 23,
    "_isFastLaunch": false,
    "category": "Compute optimized",
    "gpuNum": 0,
    "hideHardwareSpecs": false,
    "memoryGiB": 16,
    "name": "ml.c5.2xlarge",
    "vcpuNum": 8
   },
   {
    "_defaultOrder": 24,
    "_isFastLaunch": false,
    "category": "Compute optimized",
    "gpuNum": 0,
    "hideHardwareSpecs": false,
    "memoryGiB": 32,
    "name": "ml.c5.4xlarge",
    "vcpuNum": 16
   },
   {
    "_defaultOrder": 25,
    "_isFastLaunch": false,
    "category": "Compute optimized",
    "gpuNum": 0,
    "hideHardwareSpecs": false,
    "memoryGiB": 72,
    "name": "ml.c5.9xlarge",
    "vcpuNum": 36
   },
   {
    "_defaultOrder": 26,
    "_isFastLaunch": false,
    "category": "Compute optimized",
    "gpuNum": 0,
    "hideHardwareSpecs": false,
    "memoryGiB": 96,
    "name": "ml.c5.12xlarge",
    "vcpuNum": 48
   },
   {
    "_defaultOrder": 27,
    "_isFastLaunch": false,
    "category": "Compute optimized",
    "gpuNum": 0,
    "hideHardwareSpecs": false,
    "memoryGiB": 144,
    "name": "ml.c5.18xlarge",
    "vcpuNum": 72
   },
   {
    "_defaultOrder": 28,
    "_isFastLaunch": false,
    "category": "Compute optimized",
    "gpuNum": 0,
    "hideHardwareSpecs": false,
    "memoryGiB": 192,
    "name": "ml.c5.24xlarge",
    "vcpuNum": 96
   },
   {
    "_defaultOrder": 29,
    "_isFastLaunch": true,
    "category": "Accelerated computing",
    "gpuNum": 1,
    "hideHardwareSpecs": false,
    "memoryGiB": 16,
    "name": "ml.g4dn.xlarge",
    "vcpuNum": 4
   },
   {
    "_defaultOrder": 30,
    "_isFastLaunch": false,
    "category": "Accelerated computing",
    "gpuNum": 1,
    "hideHardwareSpecs": false,
    "memoryGiB": 32,
    "name": "ml.g4dn.2xlarge",
    "vcpuNum": 8
   },
   {
    "_defaultOrder": 31,
    "_isFastLaunch": false,
    "category": "Accelerated computing",
    "gpuNum": 1,
    "hideHardwareSpecs": false,
    "memoryGiB": 64,
    "name": "ml.g4dn.4xlarge",
    "vcpuNum": 16
   },
   {
    "_defaultOrder": 32,
    "_isFastLaunch": false,
    "category": "Accelerated computing",
    "gpuNum": 1,
    "hideHardwareSpecs": false,
    "memoryGiB": 128,
    "name": "ml.g4dn.8xlarge",
    "vcpuNum": 32
   },
   {
    "_defaultOrder": 33,
    "_isFastLaunch": false,
    "category": "Accelerated computing",
    "gpuNum": 4,
    "hideHardwareSpecs": false,
    "memoryGiB": 192,
    "name": "ml.g4dn.12xlarge",
    "vcpuNum": 48
   },
   {
    "_defaultOrder": 34,
    "_isFastLaunch": false,
    "category": "Accelerated computing",
    "gpuNum": 1,
    "hideHardwareSpecs": false,
    "memoryGiB": 256,
    "name": "ml.g4dn.16xlarge",
    "vcpuNum": 64
   },
   {
    "_defaultOrder": 35,
    "_isFastLaunch": false,
    "category": "Accelerated computing",
    "gpuNum": 1,
    "hideHardwareSpecs": false,
    "memoryGiB": 61,
    "name": "ml.p3.2xlarge",
    "vcpuNum": 8
   },
   {
    "_defaultOrder": 36,
    "_isFastLaunch": false,
    "category": "Accelerated computing",
    "gpuNum": 4,
    "hideHardwareSpecs": false,
    "memoryGiB": 244,
    "name": "ml.p3.8xlarge",
    "vcpuNum": 32
   },
   {
    "_defaultOrder": 37,
    "_isFastLaunch": false,
    "category": "Accelerated computing",
    "gpuNum": 8,
    "hideHardwareSpecs": false,
    "memoryGiB": 488,
    "name": "ml.p3.16xlarge",
    "vcpuNum": 64
   },
   {
    "_defaultOrder": 38,
    "_isFastLaunch": false,
    "category": "Accelerated computing",
    "gpuNum": 8,
    "hideHardwareSpecs": false,
    "memoryGiB": 768,
    "name": "ml.p3dn.24xlarge",
    "vcpuNum": 96
   },
   {
    "_defaultOrder": 39,
    "_isFastLaunch": false,
    "category": "Memory Optimized",
    "gpuNum": 0,
    "hideHardwareSpecs": false,
    "memoryGiB": 16,
    "name": "ml.r5.large",
    "vcpuNum": 2
   },
   {
    "_defaultOrder": 40,
    "_isFastLaunch": false,
    "category": "Memory Optimized",
    "gpuNum": 0,
    "hideHardwareSpecs": false,
    "memoryGiB": 32,
    "name": "ml.r5.xlarge",
    "vcpuNum": 4
   },
   {
    "_defaultOrder": 41,
    "_isFastLaunch": false,
    "category": "Memory Optimized",
    "gpuNum": 0,
    "hideHardwareSpecs": false,
    "memoryGiB": 64,
    "name": "ml.r5.2xlarge",
    "vcpuNum": 8
   },
   {
    "_defaultOrder": 42,
    "_isFastLaunch": false,
    "category": "Memory Optimized",
    "gpuNum": 0,
    "hideHardwareSpecs": false,
    "memoryGiB": 128,
    "name": "ml.r5.4xlarge",
    "vcpuNum": 16
   },
   {
    "_defaultOrder": 43,
    "_isFastLaunch": false,
    "category": "Memory Optimized",
    "gpuNum": 0,
    "hideHardwareSpecs": false,
    "memoryGiB": 256,
    "name": "ml.r5.8xlarge",
    "vcpuNum": 32
   },
   {
    "_defaultOrder": 44,
    "_isFastLaunch": false,
    "category": "Memory Optimized",
    "gpuNum": 0,
    "hideHardwareSpecs": false,
    "memoryGiB": 384,
    "name": "ml.r5.12xlarge",
    "vcpuNum": 48
   },
   {
    "_defaultOrder": 45,
    "_isFastLaunch": false,
    "category": "Memory Optimized",
    "gpuNum": 0,
    "hideHardwareSpecs": false,
    "memoryGiB": 512,
    "name": "ml.r5.16xlarge",
    "vcpuNum": 64
   },
   {
    "_defaultOrder": 46,
    "_isFastLaunch": false,
    "category": "Memory Optimized",
    "gpuNum": 0,
    "hideHardwareSpecs": false,
    "memoryGiB": 768,
    "name": "ml.r5.24xlarge",
    "vcpuNum": 96
   },
   {
    "_defaultOrder": 47,
    "_isFastLaunch": false,
    "category": "Accelerated computing",
    "gpuNum": 1,
    "hideHardwareSpecs": false,
    "memoryGiB": 16,
    "name": "ml.g5.xlarge",
    "vcpuNum": 4
   },
   {
    "_defaultOrder": 48,
    "_isFastLaunch": false,
    "category": "Accelerated computing",
    "gpuNum": 1,
    "hideHardwareSpecs": false,
    "memoryGiB": 32,
    "name": "ml.g5.2xlarge",
    "vcpuNum": 8
   },
   {
    "_defaultOrder": 49,
    "_isFastLaunch": false,
    "category": "Accelerated computing",
    "gpuNum": 1,
    "hideHardwareSpecs": false,
    "memoryGiB": 64,
    "name": "ml.g5.4xlarge",
    "vcpuNum": 16
   },
   {
    "_defaultOrder": 50,
    "_isFastLaunch": false,
    "category": "Accelerated computing",
    "gpuNum": 1,
    "hideHardwareSpecs": false,
    "memoryGiB": 128,
    "name": "ml.g5.8xlarge",
    "vcpuNum": 32
   },
   {
    "_defaultOrder": 51,
    "_isFastLaunch": false,
    "category": "Accelerated computing",
    "gpuNum": 1,
    "hideHardwareSpecs": false,
    "memoryGiB": 256,
    "name": "ml.g5.16xlarge",
    "vcpuNum": 64
   },
   {
    "_defaultOrder": 52,
    "_isFastLaunch": false,
    "category": "Accelerated computing",
    "gpuNum": 4,
    "hideHardwareSpecs": false,
    "memoryGiB": 192,
    "name": "ml.g5.12xlarge",
    "vcpuNum": 48
   },
   {
    "_defaultOrder": 53,
    "_isFastLaunch": false,
    "category": "Accelerated computing",
    "gpuNum": 4,
    "hideHardwareSpecs": false,
    "memoryGiB": 384,
    "name": "ml.g5.24xlarge",
    "vcpuNum": 96
   },
   {
    "_defaultOrder": 54,
    "_isFastLaunch": false,
    "category": "Accelerated computing",
    "gpuNum": 8,
    "hideHardwareSpecs": false,
    "memoryGiB": 768,
    "name": "ml.g5.48xlarge",
    "vcpuNum": 192
   },
   {
    "_defaultOrder": 55,
    "_isFastLaunch": false,
    "category": "Accelerated computing",
    "gpuNum": 8,
    "hideHardwareSpecs": false,
    "memoryGiB": 1152,
    "name": "ml.p4d.24xlarge",
    "vcpuNum": 96
   },
   {
    "_defaultOrder": 56,
    "_isFastLaunch": false,
    "category": "Accelerated computing",
    "gpuNum": 8,
    "hideHardwareSpecs": false,
    "memoryGiB": 1152,
    "name": "ml.p4de.24xlarge",
    "vcpuNum": 96
   },
   {
    "_defaultOrder": 57,
    "_isFastLaunch": false,
    "category": "Accelerated computing",
    "gpuNum": 0,
    "hideHardwareSpecs": false,
    "memoryGiB": 32,
    "name": "ml.trn1.2xlarge",
    "vcpuNum": 8
   },
   {
    "_defaultOrder": 58,
    "_isFastLaunch": false,
    "category": "Accelerated computing",
    "gpuNum": 0,
    "hideHardwareSpecs": false,
    "memoryGiB": 512,
    "name": "ml.trn1.32xlarge",
    "vcpuNum": 128
   },
   {
    "_defaultOrder": 59,
    "_isFastLaunch": false,
    "category": "Accelerated computing",
    "gpuNum": 0,
    "hideHardwareSpecs": false,
    "memoryGiB": 512,
    "name": "ml.trn1n.32xlarge",
    "vcpuNum": 128
   }
  ],
  "instance_type": "ml.t3.xlarge",
  "kernelspec": {
   "display_name": "Python 3 (Data Science 3.0)",
   "language": "python",
   "name": "python3__SAGEMAKER_INTERNAL__arn:aws:sagemaker:us-east-1:081325390199:image/sagemaker-data-science-310-v1"
  },
  "language_info": {
   "codemirror_mode": {
    "name": "ipython",
    "version": 3
   },
   "file_extension": ".py",
   "mimetype": "text/x-python",
   "name": "python",
   "nbconvert_exporter": "python",
   "pygments_lexer": "ipython3",
   "version": "3.10.6"
  }
 },
 "nbformat": 4,
 "nbformat_minor": 5
}
