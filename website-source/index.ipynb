{
  "cells": [
    {
      "cell_type": "raw",
      "metadata": {},
      "source": [
        "---\n",
        "title: \"Introduction\"\n",
        "output: rmdformats::material\n",
        "editor: \n",
        "  markdown: \n",
        "    wrap: 72\n",
        "---"
      ],
      "id": "d683c2ca"
    },
    {
      "cell_type": "markdown",
      "metadata": {},
      "source": [
        "```{css, echo = FALSE}\n",
        ".justify {\n",
        "  text-align: justify !important\n",
        "}\n",
        "```\n",
        "\n",
        "\n",
        "::: {.justify}\n",
        "\n",
        "Andrew McAfee, author: \"Once in a while, the technology comes along that is so powerful and so broadly applicable that it accelerates the normal march of economic progress. And like a lot of economists, I believe that generative AI belongs in that category.\"\n",
        "\n",
        "In the digital age, the evolution of technology is not just rapid but transformative, promising solutions to myriad human problems. Amidst this technological advancement, social media platforms have emerged as one of the important indicators of public sentiment, exerting a significant influence on various sectors, including the financial market. Reddit is one of the platforms that sets itself apart with its unique community-driven content, fostering discussions that range from everyday topics to specialized subjects in technology.\n",
        "Over the years, since the technology sector has become one of the key drivers of economic growth, understanding the public and media discourse surrounding tech companies is crucial for investors, analysts, and the companies themselves and how it can influence their stock market activity. Our project aims to decode the sentiments expressed on Reddit and assess their potential impacts on the stock prices of leading technology companies. \n",
        "The focus of the project would be Reddit's vibrant communities, particularly within the subreddits **r/Technology**, **r/Futurology**, and **r/news**. These forums attract a spectrum of participants, from technology enthusiasts and futurists to the general public, each contributing to a rich array of perspectives. By engaging and understanding the discourse within these specific forums, we aim to analyze and understand public sentiments around new technological interventions. We further strive to quantify this user engagement and decode the intricate relationship between the sentiments and their effect on stock market trends of leading tech firms, such as **Microsoft**, **Nvidia**, **Adobe**, **Alphabet**, and **Amazon**. \n",
        "\n",
        "We would use advanced data analytics techniques, including natural language processing (NLP), machine learning (ML), and sentiment analysis, to unearth patterns and relationships within the discussions on Reddit. Leveraging cloud computing platforms like Amazon Web Services (AWS), we will efficiently process and analyze the vast Reddit dataset.\n",
        "\n",
        "This project is an endeavor to elucidate how public sentiment, as captured through online discussions, aligns with or predicts stock market trends. By examining Reddit's submissions and comments within a rigorous methodological framework, we aim to enhance the reliability and relevance of our findings. We believe integrating user-generated Reddit content with stock market data would initiate a dialogue at the intersection of social media and finance and provide practical insights for investors, market analysts, and stakeholders within the technology sector.\n",
        "\n",
        "\n",
        "\n",
        ":::"
      ],
      "id": "6bb63a54"
    }
  ],
  "metadata": {
    "kernelspec": {
      "display_name": "Python 3",
      "language": "python",
      "name": "python3"
    }
  },
  "nbformat": 4,
  "nbformat_minor": 5
}